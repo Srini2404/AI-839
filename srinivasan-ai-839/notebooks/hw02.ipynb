{
 "cells": [
  {
   "cell_type": "markdown",
   "metadata": {},
   "source": [
    "# Home Work 2\n",
    " - using PyFME library to include details about meta information of the dataset.\n",
    " - "
   ]
  },
  {
   "cell_type": "markdown",
   "metadata": {},
   "source": [
    "## Cell1 - \n",
    "1) loading the dataset file and then installing the required libraries."
   ]
  },
  {
   "cell_type": "code",
   "execution_count": 8,
   "metadata": {},
   "outputs": [
    {
     "ename": "ValueError",
     "evalue": "same-lst-sev-yrs value not in ('diff-lst-year', 'same-lst-yr', 'same-lst-two-yrs', ' same-lst-sev-yrs')",
     "output_type": "error",
     "traceback": [
      "\u001b[1;31m---------------------------------------------------------------------------\u001b[0m",
      "\u001b[1;31mValueError\u001b[0m                                Traceback (most recent call last)",
      "Cell \u001b[1;32mIn[8], line 6\u001b[0m\n\u001b[0;32m      3\u001b[0m \u001b[38;5;28;01mfrom\u001b[39;00m \u001b[38;5;21;01mpymfe\u001b[39;00m\u001b[38;5;21;01m.\u001b[39;00m\u001b[38;5;21;01mmfe\u001b[39;00m \u001b[38;5;28;01mimport\u001b[39;00m MFE\n\u001b[0;32m      5\u001b[0m \u001b[38;5;66;03m# Load the ARFF dataset\u001b[39;00m\n\u001b[1;32m----> 6\u001b[0m data, meta \u001b[38;5;241m=\u001b[39m \u001b[43marff\u001b[49m\u001b[38;5;241;43m.\u001b[39;49m\u001b[43mloadarff\u001b[49m\u001b[43m(\u001b[49m\u001b[38;5;124;43m'\u001b[39;49m\u001b[38;5;124;43m../../dataset_42_soybean.arff\u001b[39;49m\u001b[38;5;124;43m'\u001b[39;49m\u001b[43m)\u001b[49m\n\u001b[0;32m      7\u001b[0m df \u001b[38;5;241m=\u001b[39m pd\u001b[38;5;241m.\u001b[39mDataFrame(data)\n\u001b[0;32m      9\u001b[0m \u001b[38;5;66;03m# Separate features and target\u001b[39;00m\n",
      "File \u001b[1;32mc:\\Users\\Admin\\miniconda3\\envs\\recsys\\Lib\\site-packages\\scipy\\io\\arff\\_arffread.py:804\u001b[0m, in \u001b[0;36mloadarff\u001b[1;34m(f)\u001b[0m\n\u001b[0;32m    802\u001b[0m     ofile \u001b[38;5;241m=\u001b[39m \u001b[38;5;28mopen\u001b[39m(f)\n\u001b[0;32m    803\u001b[0m \u001b[38;5;28;01mtry\u001b[39;00m:\n\u001b[1;32m--> 804\u001b[0m     \u001b[38;5;28;01mreturn\u001b[39;00m \u001b[43m_loadarff\u001b[49m\u001b[43m(\u001b[49m\u001b[43mofile\u001b[49m\u001b[43m)\u001b[49m\n\u001b[0;32m    805\u001b[0m \u001b[38;5;28;01mfinally\u001b[39;00m:\n\u001b[0;32m    806\u001b[0m     \u001b[38;5;28;01mif\u001b[39;00m ofile \u001b[38;5;129;01mis\u001b[39;00m \u001b[38;5;129;01mnot\u001b[39;00m f:  \u001b[38;5;66;03m# only close what we opened\u001b[39;00m\n",
      "File \u001b[1;32mc:\\Users\\Admin\\miniconda3\\envs\\recsys\\Lib\\site-packages\\scipy\\io\\arff\\_arffread.py:869\u001b[0m, in \u001b[0;36m_loadarff\u001b[1;34m(ofile)\u001b[0m\n\u001b[0;32m    865\u001b[0m         row, dialect \u001b[38;5;241m=\u001b[39m split_data_line(raw, dialect)\n\u001b[0;32m    867\u001b[0m         \u001b[38;5;28;01myield\u001b[39;00m \u001b[38;5;28mtuple\u001b[39m([attr[i]\u001b[38;5;241m.\u001b[39mparse_data(row[i]) \u001b[38;5;28;01mfor\u001b[39;00m i \u001b[38;5;129;01min\u001b[39;00m elems])\n\u001b[1;32m--> 869\u001b[0m a \u001b[38;5;241m=\u001b[39m \u001b[38;5;28;43mlist\u001b[39;49m\u001b[43m(\u001b[49m\u001b[43mgenerator\u001b[49m\u001b[43m(\u001b[49m\u001b[43mofile\u001b[49m\u001b[43m)\u001b[49m\u001b[43m)\u001b[49m\n\u001b[0;32m    870\u001b[0m \u001b[38;5;66;03m# No error should happen here: it is a bug otherwise\u001b[39;00m\n\u001b[0;32m    871\u001b[0m data \u001b[38;5;241m=\u001b[39m np\u001b[38;5;241m.\u001b[39marray(a, [(a\u001b[38;5;241m.\u001b[39mname, a\u001b[38;5;241m.\u001b[39mdtype) \u001b[38;5;28;01mfor\u001b[39;00m a \u001b[38;5;129;01min\u001b[39;00m attr])\n",
      "File \u001b[1;32mc:\\Users\\Admin\\miniconda3\\envs\\recsys\\Lib\\site-packages\\scipy\\io\\arff\\_arffread.py:867\u001b[0m, in \u001b[0;36m_loadarff.<locals>.generator\u001b[1;34m(row_iter, delim)\u001b[0m\n\u001b[0;32m    863\u001b[0m     \u001b[38;5;28;01mcontinue\u001b[39;00m\n\u001b[0;32m    865\u001b[0m row, dialect \u001b[38;5;241m=\u001b[39m split_data_line(raw, dialect)\n\u001b[1;32m--> 867\u001b[0m \u001b[38;5;28;01myield\u001b[39;00m \u001b[38;5;28mtuple\u001b[39m([\u001b[43mattr\u001b[49m\u001b[43m[\u001b[49m\u001b[43mi\u001b[49m\u001b[43m]\u001b[49m\u001b[38;5;241;43m.\u001b[39;49m\u001b[43mparse_data\u001b[49m\u001b[43m(\u001b[49m\u001b[43mrow\u001b[49m\u001b[43m[\u001b[49m\u001b[43mi\u001b[49m\u001b[43m]\u001b[49m\u001b[43m)\u001b[49m \u001b[38;5;28;01mfor\u001b[39;00m i \u001b[38;5;129;01min\u001b[39;00m elems])\n",
      "File \u001b[1;32mc:\\Users\\Admin\\miniconda3\\envs\\recsys\\Lib\\site-packages\\scipy\\io\\arff\\_arffread.py:159\u001b[0m, in \u001b[0;36mNominalAttribute.parse_data\u001b[1;34m(self, data_str)\u001b[0m\n\u001b[0;32m    157\u001b[0m     \u001b[38;5;28;01mreturn\u001b[39;00m data_str\n\u001b[0;32m    158\u001b[0m \u001b[38;5;28;01melse\u001b[39;00m:\n\u001b[1;32m--> 159\u001b[0m     \u001b[38;5;28;01mraise\u001b[39;00m \u001b[38;5;167;01mValueError\u001b[39;00m(\u001b[38;5;124mf\u001b[39m\u001b[38;5;124m\"\u001b[39m\u001b[38;5;132;01m{\u001b[39;00m\u001b[38;5;28mstr\u001b[39m(data_str)\u001b[38;5;132;01m}\u001b[39;00m\u001b[38;5;124m value not in \u001b[39m\u001b[38;5;132;01m{\u001b[39;00m\u001b[38;5;28mstr\u001b[39m(\u001b[38;5;28mself\u001b[39m\u001b[38;5;241m.\u001b[39mvalues)\u001b[38;5;132;01m}\u001b[39;00m\u001b[38;5;124m\"\u001b[39m)\n",
      "\u001b[1;31mValueError\u001b[0m: same-lst-sev-yrs value not in ('diff-lst-year', 'same-lst-yr', 'same-lst-two-yrs', ' same-lst-sev-yrs')"
     ]
    }
   ],
   "source": [
    "import pandas as pd\n",
    "from scipy.io import arff\n",
    "from pymfe.mfe import MFE\n",
    "\n",
    "# Load the ARFF dataset\n",
    "data, meta = arff.loadarff('../../dataset_42_soybean.arff')\n",
    "df = pd.DataFrame(data)\n",
    "\n",
    "# Separate features and target\n",
    "X = df.drop('class', axis=1)\n",
    "y = df['class'].astype(str)\n",
    "\n",
    "# Initialize and fit the MFE model\n",
    "mfe = MFE(groups=[\"general\", \"statistical\", \"info-theory\", \"model-based\", \"landmarking\"])\n",
    "mfe.fit(X.values, y.values)\n",
    "\n",
    "# Extract meta-features\n",
    "ft = mfe.extract()\n",
    "\n",
    "# Display the results\n",
    "print(pd.DataFrame(ft).T)\n",
    "\n"
   ]
  },
  {
   "cell_type": "code",
   "execution_count": null,
   "metadata": {},
   "outputs": [],
   "source": []
  }
 ],
 "metadata": {
  "kernelspec": {
   "display_name": "recsys",
   "language": "python",
   "name": "python3"
  },
  "language_info": {
   "codemirror_mode": {
    "name": "ipython",
    "version": 3
   },
   "file_extension": ".py",
   "mimetype": "text/x-python",
   "name": "python",
   "nbconvert_exporter": "python",
   "pygments_lexer": "ipython3",
   "version": "3.12.2"
  }
 },
 "nbformat": 4,
 "nbformat_minor": 2
}

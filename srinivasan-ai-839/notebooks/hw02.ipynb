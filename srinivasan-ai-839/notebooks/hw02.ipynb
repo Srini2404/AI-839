{
 "cells": [
  {
   "cell_type": "markdown",
   "metadata": {},
   "source": [
    "# Home Work 2\n",
    " - using PyFME library to include details about meta information of the dataset."
   ]
  },
  {
   "cell_type": "markdown",
   "metadata": {},
   "source": [
    "\n",
    "---\n",
    "\n",
    "# Soybean Dataset Data Card\n",
    "\n",
    "## Dataset Overview\n",
    "The Soybean dataset is a well-known benchmark dataset commonly used in machine learning tasks. It contains 683 instances and 35 attributes (excluding the target class). The dataset has 19 distinct classes, representing different types of soybean diseases.\n",
    "\n",
    "### Basic Dataset Features:\n",
    "- **Number of Instances:** 683\n",
    "- **Number of Attributes:** 35\n",
    "- **Number of Classes:** 19\n",
    "\n",
    "## Meta-Features Extracted\n",
    "Meta-features provide insights into the characteristics of the dataset that could be used for tasks like meta-learning. Below are some of the meta-features extracted:\n",
    "\n",
    "| **Feature**                  | **Value**                      |\n",
    "|------------------------------|--------------------------------|\n",
    "| num_instances                | 683                            |\n",
    "| num_attributes               | 35                             |\n",
    "| num_classes                  | 19                             |\n",
    "| attr_conc.mean               | 0.097                          |\n",
    "| attr_conc.sd                 | 0.155                          |\n",
    "| best_node.mean               | 0.261                          |\n",
    "| best_node.sd                 | 0.006                          |\n",
    "| can_cor.mean                 | 0.945                          |\n",
    "| can_cor.sd                   | 0.088                          |\n",
    "| class_conc.mean              | 0.553                          |\n",
    "| class_conc.sd                | 0.292                          |\n",
    "| class_ent                    | 3.836                          |\n",
    "| cor.mean                     | 0.145                          |\n",
    "| cor.sd                       | 0.151                          |\n",
    "| eigenvalues.mean             | 0.145                          |\n",
    "| eigenvalues.sd               | 0.368                          |\n",
    "| freq_class.mean              | 0.053                          |\n",
    "| freq_class.sd                | 0.044                          |\n",
    "| gravity                      | 5.676                          |\n",
    "| kurtosis.mean                | 12.651                         |\n",
    "| kurtosis.sd                  | 68.915                         |\n",
    "| leaves                       | 72                             |\n",
    "| leaves_branch.mean           | 10.389                         |\n",
    "| leaves_branch.sd             | 3.899                          |\n",
    "| leaves_per_class.mean        | 0.053                          |\n",
    "| leaves_per_class.sd          | 0.066                          |\n",
    "| max.mean                     | 1.0                            |\n",
    "| median.mean                  | 0.263                          |\n",
    "| median.sd                    | 0.442                          |\n",
    "| min.mean                     | 0.0                            |\n",
    "| min.sd                       | 0.0                            |\n",
    "| nodes                        | 71                             |\n",
    "| nodes_per_attr               | 0.717                          |\n",
    "| one_nn.mean                  | 0.924                          |\n",
    "| one_nn.sd                    | 0.053                          |\n",
    "| random_node.mean             | 0.198                          |\n",
    "| random_node.sd               | 0.029                          |\n",
    "| tree_depth.mean              | 9.469                          |\n",
    "| tree_depth.sd                | 4.036                          |\n",
    "| var.mean                     | 0.145                          |\n",
    "| var.sd                       | 0.076                          |\n",
    "| worst_node.mean              | 0.132                          |\n",
    "| worst_node.sd                | 0.001                          |\n",
    "\n",
    "### Note:\n",
    "Some meta-features like `attr_ent.mean`, `attr_ent.sd`, `cat_to_num`, `mut_inf.mean`, etc., were not available in this dataset (NaN values).\n",
    "\n",
    "## Code to Extract Features\n",
    "The following code was used to load the Soybean dataset, extract basic dataset features, and compute meta-features using the PyMFE library:\n"
   ]
  },
  {
   "cell_type": "code",
   "execution_count": 14,
   "metadata": {},
   "outputs": [
    {
     "name": "stderr",
     "output_type": "stream",
     "text": [
      "c:\\Users\\Admin\\miniconda3\\envs\\recsys\\Lib\\site-packages\\sklearn\\model_selection\\_split.py:725: UserWarning: The least populated class in y has only 8 members, which is less than n_splits=10.\n",
      "  warnings.warn(\n",
      "c:\\Users\\Admin\\miniconda3\\envs\\recsys\\Lib\\site-packages\\sklearn\\preprocessing\\_encoders.py:972: FutureWarning: `sparse` was renamed to `sparse_output` in version 1.2 and will be removed in 1.4. `sparse_output` is ignored unless you leave `sparse` to its default value.\n",
      "  warnings.warn(\n",
      "c:\\Users\\Admin\\miniconda3\\envs\\recsys\\Lib\\site-packages\\pymfe\\_internal.py:1281: UserWarning:  * Something went wrong while precomputing 'precompute_entropy'. Will ignore this method. Error message:\n",
      "TypeError(\"'<' not supported between instances of 'NoneType' and 'str'\").\n",
      "  warnings.warn(\n"
     ]
    },
    {
     "name": "stdout",
     "output_type": "stream",
     "text": [
      "All features saved to 'soybean_all_features.csv'\n"
     ]
    }
   ],
   "source": [
    "import pandas as pd\n",
    "import arff\n",
    "from pymfe.mfe import MFE\n",
    "\n",
    "# Load the ARFF dataset using liac-arff\n",
    "with open('../../dataset_42_soybean.arff', 'r') as f:\n",
    "    dataset = arff.load(f)\n",
    "\n",
    "# Convert to a DataFrame\n",
    "df = pd.DataFrame(dataset['data'], columns=[attr[0] for attr in dataset['attributes']])\n",
    "\n",
    "# Extract basic dataset features\n",
    "num_instances = df.shape[0]\n",
    "num_attributes = df.shape[1] - 1  # Subtract 1 for the target class column\n",
    "num_classes = df['class'].nunique()\n",
    "\n",
    "# Separate features and target\n",
    "X = df.drop('class', axis=1)\n",
    "y = df['class']\n",
    "\n",
    "# Initialize and fit the MFE model\n",
    "mfe = MFE(groups=[\"general\", \"statistical\", \"info-theory\", \"model-based\", \"landmarking\"])\n",
    "mfe.fit(X.values, y.values)\n",
    "\n",
    "# Extract meta-features\n",
    "ft = mfe.extract(suppress_warnings=True)\n",
    "\n",
    "# Convert the meta-features to a DataFrame\n",
    "meta_features_df = pd.DataFrame(ft).T\n",
    "meta_features_df.columns = ['Feature', 'Value']\n",
    "\n",
    "# Create a DataFrame for basic features\n",
    "basic_features = pd.DataFrame({\n",
    "    'Feature': ['num_instances', 'num_attributes', 'num_classes'],\n",
    "    'Value': [num_instances, num_attributes, num_classes]\n",
    "})\n",
    "\n",
    "# Concatenate basic features with meta-features\n",
    "all_features_df = pd.concat([basic_features, meta_features_df], ignore_index=True)\n",
    "\n",
    "# Save the DataFrame to a CSV file\n",
    "all_features_df.to_csv('soybean_all_features.csv', index=False)\n",
    "\n",
    "# Optional: Print the path to confirm where the file was saved\n",
    "print(\"All features saved to 'soybean_all_features.csv'\")\n"
   ]
  },
  {
   "cell_type": "markdown",
   "metadata": {},
   "source": [
    "\n",
    "## File Output\n",
    "The extracted features are stored in the CSV file `soybean_all_features.csv`. This file contains both the basic dataset characteristics and the extracted meta-features, formatted as `Feature, Value` pairs.\n",
    "\n",
    "---\n",
    "\n",
    "This data card provides a quick summary of the dataset and the code used for feature extraction. It's a useful reference for understanding the dataset's structure and the extracted meta-features."
   ]
  },
  {
   "cell_type": "code",
   "execution_count": null,
   "metadata": {},
   "outputs": [],
   "source": []
  }
 ],
 "metadata": {
  "kernelspec": {
   "display_name": "recsys",
   "language": "python",
   "name": "python3"
  },
  "language_info": {
   "codemirror_mode": {
    "name": "ipython",
    "version": 3
   },
   "file_extension": ".py",
   "mimetype": "text/x-python",
   "name": "python",
   "nbconvert_exporter": "python",
   "pygments_lexer": "ipython3",
   "version": "3.12.2"
  }
 },
 "nbformat": 4,
 "nbformat_minor": 2
}

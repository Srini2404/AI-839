{
 "cells": [
  {
   "cell_type": "code",
   "execution_count": 1,
   "metadata": {},
   "outputs": [
    {
     "data": {
      "text/html": [
       "<pre style=\"white-space:pre;overflow-x:auto;line-height:normal;font-family:Menlo,'DejaVu Sans Mono',consolas,'Courier New',monospace\"><span style=\"color: #7fbfbf; text-decoration-color: #7fbfbf\">[09/01/24 12:15:44] </span><span style=\"color: #000080; text-decoration-color: #000080\">INFO    </span> Using                                                                  <a href=\"file://C:\\Users\\Admin\\miniconda3\\envs\\recsys\\Lib\\site-packages\\kedro\\framework\\project\\__init__.py\" target=\"_blank\"><span style=\"color: #7f7f7f; text-decoration-color: #7f7f7f\">__init__.py</span></a><span style=\"color: #7f7f7f; text-decoration-color: #7f7f7f\">:</span><a href=\"file://C:\\Users\\Admin\\miniconda3\\envs\\recsys\\Lib\\site-packages\\kedro\\framework\\project\\__init__.py#249\" target=\"_blank\"><span style=\"color: #7f7f7f; text-decoration-color: #7f7f7f\">249</span></a>\n",
       "<span style=\"color: #7fbfbf; text-decoration-color: #7fbfbf\">                    </span>         <span style=\"color: #008000; text-decoration-color: #008000\">'C:\\Users\\Admin\\miniconda3\\envs\\recsys\\Lib\\site-packages\\kedro\\framewo</span> <span style=\"color: #7f7f7f; text-decoration-color: #7f7f7f\">               </span>\n",
       "<span style=\"color: #7fbfbf; text-decoration-color: #7fbfbf\">                    </span>         <span style=\"color: #008000; text-decoration-color: #008000\">rk\\project\\rich_logging.yml'</span> as logging configuration.                 <span style=\"color: #7f7f7f; text-decoration-color: #7f7f7f\">               </span>\n",
       "</pre>\n"
      ],
      "text/plain": [
       "\u001b[2;36m[09/01/24 12:15:44]\u001b[0m\u001b[2;36m \u001b[0m\u001b[34mINFO    \u001b[0m Using                                                                  \u001b]8;id=78227;file://C:\\Users\\Admin\\miniconda3\\envs\\recsys\\Lib\\site-packages\\kedro\\framework\\project\\__init__.py\u001b\\\u001b[2m__init__.py\u001b[0m\u001b]8;;\u001b\\\u001b[2m:\u001b[0m\u001b]8;id=891126;file://C:\\Users\\Admin\\miniconda3\\envs\\recsys\\Lib\\site-packages\\kedro\\framework\\project\\__init__.py#249\u001b\\\u001b[2m249\u001b[0m\u001b]8;;\u001b\\\n",
       "\u001b[2;36m                    \u001b[0m         \u001b[32m'C:\\Users\\Admin\\miniconda3\\envs\\recsys\\Lib\\site-packages\\kedro\\framewo\u001b[0m \u001b[2m               \u001b[0m\n",
       "\u001b[2;36m                    \u001b[0m         \u001b[32mrk\\project\\rich_logging.yml'\u001b[0m as logging configuration.                 \u001b[2m               \u001b[0m\n"
      ]
     },
     "metadata": {},
     "output_type": "display_data"
    },
    {
     "data": {
      "text/html": [
       "<pre style=\"white-space:pre;overflow-x:auto;line-height:normal;font-family:Menlo,'DejaVu Sans Mono',consolas,'Courier New',monospace\"><span style=\"color: #7fbfbf; text-decoration-color: #7fbfbf\">                    </span><span style=\"color: #000080; text-decoration-color: #000080\">INFO    </span> Registered line magic <span style=\"color: #008000; text-decoration-color: #008000\">'%reload_kedro'</span>                                   <a href=\"file://C:\\Users\\Admin\\miniconda3\\envs\\recsys\\Lib\\site-packages\\kedro\\ipython\\__init__.py\" target=\"_blank\"><span style=\"color: #7f7f7f; text-decoration-color: #7f7f7f\">__init__.py</span></a><span style=\"color: #7f7f7f; text-decoration-color: #7f7f7f\">:</span><a href=\"file://C:\\Users\\Admin\\miniconda3\\envs\\recsys\\Lib\\site-packages\\kedro\\ipython\\__init__.py#58\" target=\"_blank\"><span style=\"color: #7f7f7f; text-decoration-color: #7f7f7f\">58</span></a>\n",
       "</pre>\n"
      ],
      "text/plain": [
       "\u001b[2;36m                   \u001b[0m\u001b[2;36m \u001b[0m\u001b[34mINFO    \u001b[0m Registered line magic \u001b[32m'%reload_kedro'\u001b[0m                                   \u001b]8;id=247797;file://C:\\Users\\Admin\\miniconda3\\envs\\recsys\\Lib\\site-packages\\kedro\\ipython\\__init__.py\u001b\\\u001b[2m__init__.py\u001b[0m\u001b]8;;\u001b\\\u001b[2m:\u001b[0m\u001b]8;id=453584;file://C:\\Users\\Admin\\miniconda3\\envs\\recsys\\Lib\\site-packages\\kedro\\ipython\\__init__.py#58\u001b\\\u001b[2m58\u001b[0m\u001b]8;;\u001b\\\n"
      ]
     },
     "metadata": {},
     "output_type": "display_data"
    },
    {
     "data": {
      "text/html": [
       "<pre style=\"white-space:pre;overflow-x:auto;line-height:normal;font-family:Menlo,'DejaVu Sans Mono',consolas,'Courier New',monospace\"><span style=\"color: #7fbfbf; text-decoration-color: #7fbfbf\">                    </span><span style=\"color: #000080; text-decoration-color: #000080\">INFO    </span> Registered line magic <span style=\"color: #008000; text-decoration-color: #008000\">'%load_node'</span>                                      <a href=\"file://C:\\Users\\Admin\\miniconda3\\envs\\recsys\\Lib\\site-packages\\kedro\\ipython\\__init__.py\" target=\"_blank\"><span style=\"color: #7f7f7f; text-decoration-color: #7f7f7f\">__init__.py</span></a><span style=\"color: #7f7f7f; text-decoration-color: #7f7f7f\">:</span><a href=\"file://C:\\Users\\Admin\\miniconda3\\envs\\recsys\\Lib\\site-packages\\kedro\\ipython\\__init__.py#60\" target=\"_blank\"><span style=\"color: #7f7f7f; text-decoration-color: #7f7f7f\">60</span></a>\n",
       "</pre>\n"
      ],
      "text/plain": [
       "\u001b[2;36m                   \u001b[0m\u001b[2;36m \u001b[0m\u001b[34mINFO    \u001b[0m Registered line magic \u001b[32m'%load_node'\u001b[0m                                      \u001b]8;id=572308;file://C:\\Users\\Admin\\miniconda3\\envs\\recsys\\Lib\\site-packages\\kedro\\ipython\\__init__.py\u001b\\\u001b[2m__init__.py\u001b[0m\u001b]8;;\u001b\\\u001b[2m:\u001b[0m\u001b]8;id=715965;file://C:\\Users\\Admin\\miniconda3\\envs\\recsys\\Lib\\site-packages\\kedro\\ipython\\__init__.py#60\u001b\\\u001b[2m60\u001b[0m\u001b]8;;\u001b\\\n"
      ]
     },
     "metadata": {},
     "output_type": "display_data"
    },
    {
     "data": {
      "text/html": [
       "<pre style=\"white-space:pre;overflow-x:auto;line-height:normal;font-family:Menlo,'DejaVu Sans Mono',consolas,'Courier New',monospace\"><span style=\"color: #7fbfbf; text-decoration-color: #7fbfbf\">                    </span><span style=\"color: #000080; text-decoration-color: #000080\">INFO    </span> Resolved project path as:                                              <a href=\"file://C:\\Users\\Admin\\miniconda3\\envs\\recsys\\Lib\\site-packages\\kedro\\ipython\\__init__.py\" target=\"_blank\"><span style=\"color: #7f7f7f; text-decoration-color: #7f7f7f\">__init__.py</span></a><span style=\"color: #7f7f7f; text-decoration-color: #7f7f7f\">:</span><a href=\"file://C:\\Users\\Admin\\miniconda3\\envs\\recsys\\Lib\\site-packages\\kedro\\ipython\\__init__.py#175\" target=\"_blank\"><span style=\"color: #7f7f7f; text-decoration-color: #7f7f7f\">175</span></a>\n",
       "<span style=\"color: #7fbfbf; text-decoration-color: #7fbfbf\">                    </span>         C:\\Users\\Admin\\Desktop\\Semester_7\\MLOps\\AI-<span style=\"color: #008080; text-decoration-color: #008080; font-weight: bold\">839</span>\\srinivasan-ai-<span style=\"color: #008080; text-decoration-color: #008080; font-weight: bold\">839</span>.      <span style=\"color: #7f7f7f; text-decoration-color: #7f7f7f\">               </span>\n",
       "<span style=\"color: #7fbfbf; text-decoration-color: #7fbfbf\">                    </span>         To set a different path, run <span style=\"color: #008000; text-decoration-color: #008000\">'%reload_kedro &lt;project_root&gt;'</span>            <span style=\"color: #7f7f7f; text-decoration-color: #7f7f7f\">               </span>\n",
       "</pre>\n"
      ],
      "text/plain": [
       "\u001b[2;36m                   \u001b[0m\u001b[2;36m \u001b[0m\u001b[34mINFO    \u001b[0m Resolved project path as:                                              \u001b]8;id=598033;file://C:\\Users\\Admin\\miniconda3\\envs\\recsys\\Lib\\site-packages\\kedro\\ipython\\__init__.py\u001b\\\u001b[2m__init__.py\u001b[0m\u001b]8;;\u001b\\\u001b[2m:\u001b[0m\u001b]8;id=989729;file://C:\\Users\\Admin\\miniconda3\\envs\\recsys\\Lib\\site-packages\\kedro\\ipython\\__init__.py#175\u001b\\\u001b[2m175\u001b[0m\u001b]8;;\u001b\\\n",
       "\u001b[2;36m                    \u001b[0m         C:\\Users\\Admin\\Desktop\\Semester_7\\MLOps\\AI-\u001b[1;36m839\u001b[0m\\srinivasan-ai-\u001b[1;36m839\u001b[0m.      \u001b[2m               \u001b[0m\n",
       "\u001b[2;36m                    \u001b[0m         To set a different path, run \u001b[32m'%reload_kedro \u001b[0m\u001b[32m<\u001b[0m\u001b[32mproject_root\u001b[0m\u001b[32m>\u001b[0m\u001b[32m'\u001b[0m            \u001b[2m               \u001b[0m\n"
      ]
     },
     "metadata": {},
     "output_type": "display_data"
    },
    {
     "data": {
      "text/html": [
       "<pre style=\"white-space:pre;overflow-x:auto;line-height:normal;font-family:Menlo,'DejaVu Sans Mono',consolas,'Courier New',monospace\"><span style=\"color: #7fbfbf; text-decoration-color: #7fbfbf\">[09/01/24 12:15:45] </span><span style=\"color: #800000; text-decoration-color: #800000\">WARNING </span> C:\\Users\\Admin\\miniconda3\\envs\\recsys\\Lib\\site-packages\\kedro_viz\\__in <a href=\"file://C:\\Users\\Admin\\miniconda3\\envs\\recsys\\Lib\\warnings.py\" target=\"_blank\"><span style=\"color: #7f7f7f; text-decoration-color: #7f7f7f\">warnings.py</span></a><span style=\"color: #7f7f7f; text-decoration-color: #7f7f7f\">:</span><a href=\"file://C:\\Users\\Admin\\miniconda3\\envs\\recsys\\Lib\\warnings.py#110\" target=\"_blank\"><span style=\"color: #7f7f7f; text-decoration-color: #7f7f7f\">110</span></a>\n",
       "<span style=\"color: #7fbfbf; text-decoration-color: #7fbfbf\">                    </span>         it__.py:<span style=\"color: #008080; text-decoration-color: #008080; font-weight: bold\">13</span>: KedroVizPythonVersionWarning: Please be advised that Kedro <span style=\"color: #7f7f7f; text-decoration-color: #7f7f7f\">               </span>\n",
       "<span style=\"color: #7fbfbf; text-decoration-color: #7fbfbf\">                    </span>         Viz is not yet fully                                                   <span style=\"color: #7f7f7f; text-decoration-color: #7f7f7f\">               </span>\n",
       "<span style=\"color: #7fbfbf; text-decoration-color: #7fbfbf\">                    </span>                 compatible with the Python version you are currently using.    <span style=\"color: #7f7f7f; text-decoration-color: #7f7f7f\">               </span>\n",
       "<span style=\"color: #7fbfbf; text-decoration-color: #7fbfbf\">                    </span>           <span style=\"color: #800080; text-decoration-color: #800080; font-weight: bold\">warnings.warn</span><span style=\"font-weight: bold\">(</span>                                                       <span style=\"color: #7f7f7f; text-decoration-color: #7f7f7f\">               </span>\n",
       "<span style=\"color: #7fbfbf; text-decoration-color: #7fbfbf\">                    </span>                                                                                <span style=\"color: #7f7f7f; text-decoration-color: #7f7f7f\">               </span>\n",
       "</pre>\n"
      ],
      "text/plain": [
       "\u001b[2;36m[09/01/24 12:15:45]\u001b[0m\u001b[2;36m \u001b[0m\u001b[31mWARNING \u001b[0m C:\\Users\\Admin\\miniconda3\\envs\\recsys\\Lib\\site-packages\\kedro_viz\\__in \u001b]8;id=224744;file://C:\\Users\\Admin\\miniconda3\\envs\\recsys\\Lib\\warnings.py\u001b\\\u001b[2mwarnings.py\u001b[0m\u001b]8;;\u001b\\\u001b[2m:\u001b[0m\u001b]8;id=867300;file://C:\\Users\\Admin\\miniconda3\\envs\\recsys\\Lib\\warnings.py#110\u001b\\\u001b[2m110\u001b[0m\u001b]8;;\u001b\\\n",
       "\u001b[2;36m                    \u001b[0m         it__.py:\u001b[1;36m13\u001b[0m: KedroVizPythonVersionWarning: Please be advised that Kedro \u001b[2m               \u001b[0m\n",
       "\u001b[2;36m                    \u001b[0m         Viz is not yet fully                                                   \u001b[2m               \u001b[0m\n",
       "\u001b[2;36m                    \u001b[0m                 compatible with the Python version you are currently using.    \u001b[2m               \u001b[0m\n",
       "\u001b[2;36m                    \u001b[0m           \u001b[1;35mwarnings.warn\u001b[0m\u001b[1m(\u001b[0m                                                       \u001b[2m               \u001b[0m\n",
       "\u001b[2;36m                    \u001b[0m                                                                                \u001b[2m               \u001b[0m\n"
      ]
     },
     "metadata": {},
     "output_type": "display_data"
    },
    {
     "data": {
      "text/html": [
       "<pre style=\"white-space:pre;overflow-x:auto;line-height:normal;font-family:Menlo,'DejaVu Sans Mono',consolas,'Courier New',monospace\"><span style=\"color: #7fbfbf; text-decoration-color: #7fbfbf\">[09/01/24 12:15:48] </span><span style=\"color: #000080; text-decoration-color: #000080\">INFO    </span> Kedro is sending anonymous usage data with the sole purpose of improving <a href=\"file://C:\\Users\\Admin\\miniconda3\\envs\\recsys\\Lib\\site-packages\\kedro_telemetry\\plugin.py\" target=\"_blank\"><span style=\"color: #7f7f7f; text-decoration-color: #7f7f7f\">plugin.py</span></a><span style=\"color: #7f7f7f; text-decoration-color: #7f7f7f\">:</span><a href=\"file://C:\\Users\\Admin\\miniconda3\\envs\\recsys\\Lib\\site-packages\\kedro_telemetry\\plugin.py#233\" target=\"_blank\"><span style=\"color: #7f7f7f; text-decoration-color: #7f7f7f\">233</span></a>\n",
       "<span style=\"color: #7fbfbf; text-decoration-color: #7fbfbf\">                    </span>         the product. No personal data or IP addresses are stored on our side. If <span style=\"color: #7f7f7f; text-decoration-color: #7f7f7f\">             </span>\n",
       "<span style=\"color: #7fbfbf; text-decoration-color: #7fbfbf\">                    </span>         you want to opt out, set the `KEDRO_DISABLE_TELEMETRY` or `DO_NOT_TRACK` <span style=\"color: #7f7f7f; text-decoration-color: #7f7f7f\">             </span>\n",
       "<span style=\"color: #7fbfbf; text-decoration-color: #7fbfbf\">                    </span>         environment variables, or create a `.telemetry` file in the current      <span style=\"color: #7f7f7f; text-decoration-color: #7f7f7f\">             </span>\n",
       "<span style=\"color: #7fbfbf; text-decoration-color: #7fbfbf\">                    </span>         working directory with the contents `consent: false`. Read more at       <span style=\"color: #7f7f7f; text-decoration-color: #7f7f7f\">             </span>\n",
       "<span style=\"color: #7fbfbf; text-decoration-color: #7fbfbf\">                    </span>         <span style=\"color: #0000ff; text-decoration-color: #0000ff; text-decoration: underline\">https://docs.kedro.org/en/stable/configuration/telemetry.html</span>            <span style=\"color: #7f7f7f; text-decoration-color: #7f7f7f\">             </span>\n",
       "</pre>\n"
      ],
      "text/plain": [
       "\u001b[2;36m[09/01/24 12:15:48]\u001b[0m\u001b[2;36m \u001b[0m\u001b[34mINFO    \u001b[0m Kedro is sending anonymous usage data with the sole purpose of improving \u001b]8;id=180330;file://C:\\Users\\Admin\\miniconda3\\envs\\recsys\\Lib\\site-packages\\kedro_telemetry\\plugin.py\u001b\\\u001b[2mplugin.py\u001b[0m\u001b]8;;\u001b\\\u001b[2m:\u001b[0m\u001b]8;id=809976;file://C:\\Users\\Admin\\miniconda3\\envs\\recsys\\Lib\\site-packages\\kedro_telemetry\\plugin.py#233\u001b\\\u001b[2m233\u001b[0m\u001b]8;;\u001b\\\n",
       "\u001b[2;36m                    \u001b[0m         the product. No personal data or IP addresses are stored on our side. If \u001b[2m             \u001b[0m\n",
       "\u001b[2;36m                    \u001b[0m         you want to opt out, set the `KEDRO_DISABLE_TELEMETRY` or `DO_NOT_TRACK` \u001b[2m             \u001b[0m\n",
       "\u001b[2;36m                    \u001b[0m         environment variables, or create a `.telemetry` file in the current      \u001b[2m             \u001b[0m\n",
       "\u001b[2;36m                    \u001b[0m         working directory with the contents `consent: false`. Read more at       \u001b[2m             \u001b[0m\n",
       "\u001b[2;36m                    \u001b[0m         \u001b[4;94mhttps://docs.kedro.org/en/stable/configuration/telemetry.html\u001b[0m            \u001b[2m             \u001b[0m\n"
      ]
     },
     "metadata": {},
     "output_type": "display_data"
    },
    {
     "data": {
      "text/html": [
       "<pre style=\"white-space:pre;overflow-x:auto;line-height:normal;font-family:Menlo,'DejaVu Sans Mono',consolas,'Courier New',monospace\"><span style=\"color: #7fbfbf; text-decoration-color: #7fbfbf\">[09/01/24 12:15:50] </span><span style=\"color: #000080; text-decoration-color: #000080\">INFO    </span> Kedro project Srinivasan-ai-<span style=\"color: #008080; text-decoration-color: #008080; font-weight: bold\">839</span>                                        <a href=\"file://C:\\Users\\Admin\\miniconda3\\envs\\recsys\\Lib\\site-packages\\kedro\\ipython\\__init__.py\" target=\"_blank\"><span style=\"color: #7f7f7f; text-decoration-color: #7f7f7f\">__init__.py</span></a><span style=\"color: #7f7f7f; text-decoration-color: #7f7f7f\">:</span><a href=\"file://C:\\Users\\Admin\\miniconda3\\envs\\recsys\\Lib\\site-packages\\kedro\\ipython\\__init__.py#141\" target=\"_blank\"><span style=\"color: #7f7f7f; text-decoration-color: #7f7f7f\">141</span></a>\n",
       "</pre>\n"
      ],
      "text/plain": [
       "\u001b[2;36m[09/01/24 12:15:50]\u001b[0m\u001b[2;36m \u001b[0m\u001b[34mINFO    \u001b[0m Kedro project Srinivasan-ai-\u001b[1;36m839\u001b[0m                                        \u001b]8;id=293456;file://C:\\Users\\Admin\\miniconda3\\envs\\recsys\\Lib\\site-packages\\kedro\\ipython\\__init__.py\u001b\\\u001b[2m__init__.py\u001b[0m\u001b]8;;\u001b\\\u001b[2m:\u001b[0m\u001b]8;id=253484;file://C:\\Users\\Admin\\miniconda3\\envs\\recsys\\Lib\\site-packages\\kedro\\ipython\\__init__.py#141\u001b\\\u001b[2m141\u001b[0m\u001b]8;;\u001b\\\n"
      ]
     },
     "metadata": {},
     "output_type": "display_data"
    },
    {
     "data": {
      "text/html": [
       "<pre style=\"white-space:pre;overflow-x:auto;line-height:normal;font-family:Menlo,'DejaVu Sans Mono',consolas,'Courier New',monospace\"><span style=\"color: #7fbfbf; text-decoration-color: #7fbfbf\">                    </span><span style=\"color: #000080; text-decoration-color: #000080\">INFO    </span> Defined global variable <span style=\"color: #008000; text-decoration-color: #008000\">'context'</span>, <span style=\"color: #008000; text-decoration-color: #008000\">'session'</span>, <span style=\"color: #008000; text-decoration-color: #008000\">'catalog'</span> and            <a href=\"file://C:\\Users\\Admin\\miniconda3\\envs\\recsys\\Lib\\site-packages\\kedro\\ipython\\__init__.py\" target=\"_blank\"><span style=\"color: #7f7f7f; text-decoration-color: #7f7f7f\">__init__.py</span></a><span style=\"color: #7f7f7f; text-decoration-color: #7f7f7f\">:</span><a href=\"file://C:\\Users\\Admin\\miniconda3\\envs\\recsys\\Lib\\site-packages\\kedro\\ipython\\__init__.py#142\" target=\"_blank\"><span style=\"color: #7f7f7f; text-decoration-color: #7f7f7f\">142</span></a>\n",
       "<span style=\"color: #7fbfbf; text-decoration-color: #7fbfbf\">                    </span>         <span style=\"color: #008000; text-decoration-color: #008000\">'pipelines'</span>                                                            <span style=\"color: #7f7f7f; text-decoration-color: #7f7f7f\">               </span>\n",
       "</pre>\n"
      ],
      "text/plain": [
       "\u001b[2;36m                   \u001b[0m\u001b[2;36m \u001b[0m\u001b[34mINFO    \u001b[0m Defined global variable \u001b[32m'context'\u001b[0m, \u001b[32m'session'\u001b[0m, \u001b[32m'catalog'\u001b[0m and            \u001b]8;id=643585;file://C:\\Users\\Admin\\miniconda3\\envs\\recsys\\Lib\\site-packages\\kedro\\ipython\\__init__.py\u001b\\\u001b[2m__init__.py\u001b[0m\u001b]8;;\u001b\\\u001b[2m:\u001b[0m\u001b]8;id=997263;file://C:\\Users\\Admin\\miniconda3\\envs\\recsys\\Lib\\site-packages\\kedro\\ipython\\__init__.py#142\u001b\\\u001b[2m142\u001b[0m\u001b]8;;\u001b\\\n",
       "\u001b[2;36m                    \u001b[0m         \u001b[32m'pipelines'\u001b[0m                                                            \u001b[2m               \u001b[0m\n"
      ]
     },
     "metadata": {},
     "output_type": "display_data"
    },
    {
     "data": {
      "text/html": [
       "<pre style=\"white-space:pre;overflow-x:auto;line-height:normal;font-family:Menlo,'DejaVu Sans Mono',consolas,'Courier New',monospace\"><span style=\"color: #7fbfbf; text-decoration-color: #7fbfbf\">[09/01/24 12:15:54] </span><span style=\"color: #000080; text-decoration-color: #000080\">INFO    </span> Registered line magic <span style=\"color: #008000; text-decoration-color: #008000\">'run_viz'</span>                                        <a href=\"file://C:\\Users\\Admin\\miniconda3\\envs\\recsys\\Lib\\site-packages\\kedro\\ipython\\__init__.py\" target=\"_blank\"><span style=\"color: #7f7f7f; text-decoration-color: #7f7f7f\">__init__.py</span></a><span style=\"color: #7f7f7f; text-decoration-color: #7f7f7f\">:</span><a href=\"file://C:\\Users\\Admin\\miniconda3\\envs\\recsys\\Lib\\site-packages\\kedro\\ipython\\__init__.py#148\" target=\"_blank\"><span style=\"color: #7f7f7f; text-decoration-color: #7f7f7f\">148</span></a>\n",
       "</pre>\n"
      ],
      "text/plain": [
       "\u001b[2;36m[09/01/24 12:15:54]\u001b[0m\u001b[2;36m \u001b[0m\u001b[34mINFO    \u001b[0m Registered line magic \u001b[32m'run_viz'\u001b[0m                                        \u001b]8;id=355870;file://C:\\Users\\Admin\\miniconda3\\envs\\recsys\\Lib\\site-packages\\kedro\\ipython\\__init__.py\u001b\\\u001b[2m__init__.py\u001b[0m\u001b]8;;\u001b\\\u001b[2m:\u001b[0m\u001b]8;id=905204;file://C:\\Users\\Admin\\miniconda3\\envs\\recsys\\Lib\\site-packages\\kedro\\ipython\\__init__.py#148\u001b\\\u001b[2m148\u001b[0m\u001b]8;;\u001b\\\n"
      ]
     },
     "metadata": {},
     "output_type": "display_data"
    }
   ],
   "source": [
    "%load_ext kedro.ipython"
   ]
  },
  {
   "cell_type": "code",
   "execution_count": 2,
   "metadata": {},
   "outputs": [
    {
     "data": {
      "text/html": [
       "<pre style=\"white-space:pre;overflow-x:auto;line-height:normal;font-family:Menlo,'DejaVu Sans Mono',consolas,'Courier New',monospace\"></pre>\n"
      ],
      "text/plain": []
     },
     "metadata": {},
     "output_type": "display_data"
    },
    {
     "data": {
      "text/plain": [
       "\n",
       "\u001b[1m{\u001b[0m\u001b[32m'dataset_id_214'\u001b[0m: \u001b[32m\"kedro_datasets.pandas.csv_dataset.CSVDataset\u001b[0m\u001b[32m(\u001b[0m\u001b[32mfilepath\u001b[0m\u001b[32m=\u001b[0m\u001b[32mPurePosixPath\u001b[0m\u001b[32m(\u001b[0m\u001b[32m'C:/Users/Admin/Desktop/Semester_7/MLOps/AI-839/srinivasan-ai-839/data/01_raw/dataset_id_214.csv'\u001b[0m\u001b[32m)\u001b[0m\u001b[32m, \"\u001b[0m\n",
       "                   \u001b[32m\"\u001b[0m\u001b[32mprotocol\u001b[0m\u001b[32m='file', \u001b[0m\u001b[32mload_args\u001b[0m\u001b[32m=\u001b[0m\u001b[32m{\u001b[0m\u001b[32m}\u001b[0m\u001b[32m, \u001b[0m\u001b[32msave_args\u001b[0m\u001b[32m=\u001b[0m\u001b[32m{\u001b[0m\u001b[32m'index': False\u001b[0m\u001b[32m}\u001b[0m\u001b[32m)\u001b[0m\u001b[32m\"\u001b[0m,\n",
       " \u001b[32m'preprocessed_data'\u001b[0m: \u001b[32m\"kedro_datasets.pandas.csv_dataset.CSVDataset\u001b[0m\u001b[32m(\u001b[0m\u001b[32mfilepath\u001b[0m\u001b[32m=\u001b[0m\u001b[32mPurePosixPath\u001b[0m\u001b[32m(\u001b[0m\u001b[32m'C:/Users/Admin/Desktop/Semester_7/MLOps/AI-839/srinivasan-ai-839/data/02_intermediate/preprocessed_data.csv'\u001b[0m\u001b[32m)\u001b[0m\u001b[32m, \"\u001b[0m\n",
       "                      \u001b[32m\"\u001b[0m\u001b[32mprotocol\u001b[0m\u001b[32m='file', \u001b[0m\u001b[32mload_args\u001b[0m\u001b[32m=\u001b[0m\u001b[32m{\u001b[0m\u001b[32m}\u001b[0m\u001b[32m, \u001b[0m\u001b[32msave_args\u001b[0m\u001b[32m=\u001b[0m\u001b[32m{\u001b[0m\u001b[32m'index': \"\u001b[0m\n",
       "                      \u001b[32m'True\u001b[0m\u001b[32m}\u001b[0m\u001b[32m)\u001b[0m\u001b[32m'\u001b[0m,\n",
       " \u001b[32m'parameters'\u001b[0m: \u001b[32m\"kedro.io.memory_dataset.MemoryDataset\u001b[0m\u001b[32m(\u001b[0m\u001b[32mdata\u001b[0m\u001b[32m='\u001b[0m\u001b[32m<\u001b[0m\u001b[32mdict\u001b[0m\u001b[32m>\u001b[0m\u001b[32m'\u001b[0m\u001b[32m)\u001b[0m\u001b[32m\"\u001b[0m\u001b[1m}\u001b[0m"
      ]
     },
     "execution_count": 2,
     "metadata": {},
     "output_type": "execute_result"
    }
   ],
   "source": [
    "catalog"
   ]
  },
  {
   "cell_type": "code",
   "execution_count": 3,
   "metadata": {},
   "outputs": [
    {
     "data": {
      "text/html": [
       "<pre style=\"white-space:pre;overflow-x:auto;line-height:normal;font-family:Menlo,'DejaVu Sans Mono',consolas,'Courier New',monospace\"><span style=\"color: #7fbfbf; text-decoration-color: #7fbfbf\">                    </span><span style=\"color: #000080; text-decoration-color: #000080\">INFO    </span> Loading data from <span style=\"color: #ff8700; text-decoration-color: #ff8700\">dataset_id_214</span> <span style=\"font-weight: bold\">(</span>CSVDataset<span style=\"font-weight: bold\">)</span><span style=\"color: #808000; text-decoration-color: #808000\">...</span>                   <a href=\"file://C:\\Users\\Admin\\miniconda3\\envs\\recsys\\Lib\\site-packages\\kedro\\io\\data_catalog.py\" target=\"_blank\"><span style=\"color: #7f7f7f; text-decoration-color: #7f7f7f\">data_catalog.py</span></a><span style=\"color: #7f7f7f; text-decoration-color: #7f7f7f\">:</span><a href=\"file://C:\\Users\\Admin\\miniconda3\\envs\\recsys\\Lib\\site-packages\\kedro\\io\\data_catalog.py#539\" target=\"_blank\"><span style=\"color: #7f7f7f; text-decoration-color: #7f7f7f\">539</span></a>\n",
       "</pre>\n"
      ],
      "text/plain": [
       "\u001b[2;36m                   \u001b[0m\u001b[2;36m \u001b[0m\u001b[34mINFO    \u001b[0m Loading data from \u001b[38;5;208mdataset_id_214\u001b[0m \u001b[1m(\u001b[0mCSVDataset\u001b[1m)\u001b[0m\u001b[33m...\u001b[0m                   \u001b]8;id=965117;file://C:\\Users\\Admin\\miniconda3\\envs\\recsys\\Lib\\site-packages\\kedro\\io\\data_catalog.py\u001b\\\u001b[2mdata_catalog.py\u001b[0m\u001b]8;;\u001b\\\u001b[2m:\u001b[0m\u001b]8;id=873855;file://C:\\Users\\Admin\\miniconda3\\envs\\recsys\\Lib\\site-packages\\kedro\\io\\data_catalog.py#539\u001b\\\u001b[2m539\u001b[0m\u001b]8;;\u001b\\\n"
      ]
     },
     "metadata": {},
     "output_type": "display_data"
    }
   ],
   "source": [
    "dataset = catalog.load(\"dataset_id_214\")"
   ]
  },
  {
   "cell_type": "code",
   "execution_count": 4,
   "metadata": {},
   "outputs": [
    {
     "data": {
      "text/html": [
       "<pre style=\"white-space:pre;overflow-x:auto;line-height:normal;font-family:Menlo,'DejaVu Sans Mono',consolas,'Courier New',monospace\"></pre>\n"
      ],
      "text/plain": []
     },
     "metadata": {},
     "output_type": "display_data"
    },
    {
     "data": {
      "text/plain": [
       "\n",
       "checking_status            object\n",
       "duration                    int64\n",
       "credit_history             object\n",
       "purpose                    object\n",
       "credit_amount             float64\n",
       "savings_status             object\n",
       "employment                 object\n",
       "installment_commitment      int64\n",
       "personal_status            object\n",
       "other_parties              object\n",
       "residence_since             int64\n",
       "property_magnitude         object\n",
       "age                         int64\n",
       "other_payment_plans        object\n",
       "housing                    object\n",
       "existing_credits            int64\n",
       "job                        object\n",
       "num_dependents              int64\n",
       "own_telephone              object\n",
       "foreign_worker             object\n",
       "health_status              object\n",
       "X_1                       float64\n",
       "X_2                       float64\n",
       "X_3                       float64\n",
       "X_4                       float64\n",
       "X_5                       float64\n",
       "X_6                       float64\n",
       "X_7                       float64\n",
       "X_8                       float64\n",
       "X_9                       float64\n",
       "X_10                      float64\n",
       "X_11                      float64\n",
       "X_12                      float64\n",
       "X_13                      float64\n",
       "y                            bool\n",
       "dtype: object"
      ]
     },
     "execution_count": 4,
     "metadata": {},
     "output_type": "execute_result"
    }
   ],
   "source": [
    "dataset.dtypes"
   ]
  },
  {
   "cell_type": "code",
   "execution_count": 5,
   "metadata": {},
   "outputs": [
    {
     "data": {
      "text/html": [
       "<pre style=\"white-space:pre;overflow-x:auto;line-height:normal;font-family:Menlo,'DejaVu Sans Mono',consolas,'Courier New',monospace\"></pre>\n"
      ],
      "text/plain": []
     },
     "metadata": {},
     "output_type": "display_data"
    },
    {
     "data": {
      "text/html": [
       "<div>\n",
       "<style scoped>\n",
       "    .dataframe tbody tr th:only-of-type {\n",
       "        vertical-align: middle;\n",
       "    }\n",
       "\n",
       "    .dataframe tbody tr th {\n",
       "        vertical-align: top;\n",
       "    }\n",
       "\n",
       "    .dataframe thead th {\n",
       "        text-align: right;\n",
       "    }\n",
       "</style>\n",
       "<table border=\"1\" class=\"dataframe\">\n",
       "  <thead>\n",
       "    <tr style=\"text-align: right;\">\n",
       "      <th></th>\n",
       "      <th>checking_status</th>\n",
       "      <th>duration</th>\n",
       "      <th>credit_history</th>\n",
       "      <th>purpose</th>\n",
       "      <th>credit_amount</th>\n",
       "      <th>savings_status</th>\n",
       "      <th>employment</th>\n",
       "      <th>installment_commitment</th>\n",
       "      <th>personal_status</th>\n",
       "      <th>other_parties</th>\n",
       "      <th>...</th>\n",
       "      <th>X_5</th>\n",
       "      <th>X_6</th>\n",
       "      <th>X_7</th>\n",
       "      <th>X_8</th>\n",
       "      <th>X_9</th>\n",
       "      <th>X_10</th>\n",
       "      <th>X_11</th>\n",
       "      <th>X_12</th>\n",
       "      <th>X_13</th>\n",
       "      <th>y</th>\n",
       "    </tr>\n",
       "  </thead>\n",
       "  <tbody>\n",
       "    <tr>\n",
       "      <th>0</th>\n",
       "      <td>no checking</td>\n",
       "      <td>15</td>\n",
       "      <td>existing paid</td>\n",
       "      <td>furniture/equipment</td>\n",
       "      <td>2186.0</td>\n",
       "      <td>no known savings</td>\n",
       "      <td>4&lt;=X&lt;7</td>\n",
       "      <td>1</td>\n",
       "      <td>female div/dep/mar</td>\n",
       "      <td>none</td>\n",
       "      <td>...</td>\n",
       "      <td>0.048244</td>\n",
       "      <td>0.355725</td>\n",
       "      <td>0.909741</td>\n",
       "      <td>0.405124</td>\n",
       "      <td>0.260767</td>\n",
       "      <td>0.103618</td>\n",
       "      <td>0.406376</td>\n",
       "      <td>0.017897</td>\n",
       "      <td>0.518682</td>\n",
       "      <td>True</td>\n",
       "    </tr>\n",
       "    <tr>\n",
       "      <th>1</th>\n",
       "      <td>no checking</td>\n",
       "      <td>36</td>\n",
       "      <td>critical/other existing credit</td>\n",
       "      <td>new car</td>\n",
       "      <td>7855.0</td>\n",
       "      <td>&lt;100</td>\n",
       "      <td>1&lt;=X&lt;4</td>\n",
       "      <td>4</td>\n",
       "      <td>female div/dep/mar</td>\n",
       "      <td>none</td>\n",
       "      <td>...</td>\n",
       "      <td>0.848429</td>\n",
       "      <td>0.167300</td>\n",
       "      <td>0.525345</td>\n",
       "      <td>0.701071</td>\n",
       "      <td>0.032609</td>\n",
       "      <td>0.347617</td>\n",
       "      <td>0.805072</td>\n",
       "      <td>0.734602</td>\n",
       "      <td>0.665720</td>\n",
       "      <td>False</td>\n",
       "    </tr>\n",
       "    <tr>\n",
       "      <th>2</th>\n",
       "      <td>no checking</td>\n",
       "      <td>24</td>\n",
       "      <td>critical/other existing credit</td>\n",
       "      <td>radio/tv</td>\n",
       "      <td>5103.0</td>\n",
       "      <td>&lt;100</td>\n",
       "      <td>&lt;1</td>\n",
       "      <td>3</td>\n",
       "      <td>male mar/wid</td>\n",
       "      <td>none</td>\n",
       "      <td>...</td>\n",
       "      <td>0.135713</td>\n",
       "      <td>0.185599</td>\n",
       "      <td>0.992303</td>\n",
       "      <td>0.778875</td>\n",
       "      <td>0.236489</td>\n",
       "      <td>0.317112</td>\n",
       "      <td>0.751187</td>\n",
       "      <td>0.080140</td>\n",
       "      <td>0.272325</td>\n",
       "      <td>True</td>\n",
       "    </tr>\n",
       "    <tr>\n",
       "      <th>3</th>\n",
       "      <td>no checking</td>\n",
       "      <td>18</td>\n",
       "      <td>delayed previously</td>\n",
       "      <td>business</td>\n",
       "      <td>2169.0</td>\n",
       "      <td>&lt;100</td>\n",
       "      <td>1&lt;=X&lt;4</td>\n",
       "      <td>4</td>\n",
       "      <td>male mar/wid</td>\n",
       "      <td>none</td>\n",
       "      <td>...</td>\n",
       "      <td>0.595960</td>\n",
       "      <td>0.138928</td>\n",
       "      <td>0.515338</td>\n",
       "      <td>0.198236</td>\n",
       "      <td>0.515988</td>\n",
       "      <td>0.190489</td>\n",
       "      <td>0.459742</td>\n",
       "      <td>0.018711</td>\n",
       "      <td>0.512552</td>\n",
       "      <td>False</td>\n",
       "    </tr>\n",
       "    <tr>\n",
       "      <th>4</th>\n",
       "      <td>&lt;0</td>\n",
       "      <td>30</td>\n",
       "      <td>existing paid</td>\n",
       "      <td>furniture/equipment</td>\n",
       "      <td>6350.0</td>\n",
       "      <td>no known savings</td>\n",
       "      <td>&gt;=7</td>\n",
       "      <td>4</td>\n",
       "      <td>male single</td>\n",
       "      <td>none</td>\n",
       "      <td>...</td>\n",
       "      <td>0.828696</td>\n",
       "      <td>0.991522</td>\n",
       "      <td>0.519209</td>\n",
       "      <td>0.068189</td>\n",
       "      <td>0.121944</td>\n",
       "      <td>0.326375</td>\n",
       "      <td>0.774543</td>\n",
       "      <td>0.898108</td>\n",
       "      <td>0.173491</td>\n",
       "      <td>False</td>\n",
       "    </tr>\n",
       "  </tbody>\n",
       "</table>\n",
       "<p>5 rows × 35 columns</p>\n",
       "</div>"
      ],
      "text/plain": [
       "\n",
       "  checking_status  duration                  credit_history  \\\n",
       "\u001b[1;36m0\u001b[0m     no checking        \u001b[1;36m15\u001b[0m                   existing paid   \n",
       "\u001b[1;36m1\u001b[0m     no checking        \u001b[1;36m36\u001b[0m  critical/other existing credit   \n",
       "\u001b[1;36m2\u001b[0m     no checking        \u001b[1;36m24\u001b[0m  critical/other existing credit   \n",
       "\u001b[1;36m3\u001b[0m     no checking        \u001b[1;36m18\u001b[0m              delayed previously   \n",
       "\u001b[1;36m4\u001b[0m              \u001b[1m<\u001b[0m\u001b[1;36m0\u001b[0m\u001b[39m        \u001b[0m\u001b[1;36m30\u001b[0m\u001b[39m                   existing paid   \u001b[0m\n",
       "\n",
       "\u001b[39m               purpose  credit_amount    savings_status employment  \\\u001b[0m\n",
       "\u001b[1;36m0\u001b[0m\u001b[39m  furniture/equipment         \u001b[0m\u001b[1;36m2186.0\u001b[0m\u001b[39m  no known savings     \u001b[0m\u001b[1;36m4\u001b[0m\u001b[39m<=X<\u001b[0m\u001b[1;36m7\u001b[0m\u001b[39m   \u001b[0m\n",
       "\u001b[1;36m1\u001b[0m\u001b[39m              new car         \u001b[0m\u001b[1;36m7855.0\u001b[0m\u001b[39m              <\u001b[0m\u001b[1;36m100\u001b[0m\u001b[39m     \u001b[0m\u001b[1;36m1\u001b[0m\u001b[39m<=X<\u001b[0m\u001b[1;36m4\u001b[0m\u001b[39m   \u001b[0m\n",
       "\u001b[1;36m2\u001b[0m\u001b[39m             radio/tv         \u001b[0m\u001b[1;36m5103.0\u001b[0m\u001b[39m              <\u001b[0m\u001b[1;36m100\u001b[0m\u001b[39m         <\u001b[0m\u001b[1;36m1\u001b[0m\u001b[39m   \u001b[0m\n",
       "\u001b[1;36m3\u001b[0m\u001b[39m             business         \u001b[0m\u001b[1;36m2169.0\u001b[0m\u001b[39m              <\u001b[0m\u001b[1;36m100\u001b[0m\u001b[39m     \u001b[0m\u001b[1;36m1\u001b[0m\u001b[39m<=X<\u001b[0m\u001b[1;36m4\u001b[0m\u001b[39m   \u001b[0m\n",
       "\u001b[1;36m4\u001b[0m\u001b[39m  furniture/equipment         \u001b[0m\u001b[1;36m6350.0\u001b[0m\u001b[39m  no known savings        \u001b[0m\u001b[1m>\u001b[0m=\u001b[1;36m7\u001b[0m   \n",
       "\n",
       "   installment_commitment     personal_status other_parties  \u001b[33m...\u001b[0m       X_5  \\\n",
       "\u001b[1;36m0\u001b[0m                       \u001b[1;36m1\u001b[0m  female div/dep/mar          none  \u001b[33m...\u001b[0m  \u001b[1;36m0.048244\u001b[0m   \n",
       "\u001b[1;36m1\u001b[0m                       \u001b[1;36m4\u001b[0m  female div/dep/mar          none  \u001b[33m...\u001b[0m  \u001b[1;36m0.848429\u001b[0m   \n",
       "\u001b[1;36m2\u001b[0m                       \u001b[1;36m3\u001b[0m        male mar/wid          none  \u001b[33m...\u001b[0m  \u001b[1;36m0.135713\u001b[0m   \n",
       "\u001b[1;36m3\u001b[0m                       \u001b[1;36m4\u001b[0m        male mar/wid          none  \u001b[33m...\u001b[0m  \u001b[1;36m0.595960\u001b[0m   \n",
       "\u001b[1;36m4\u001b[0m                       \u001b[1;36m4\u001b[0m         male single          none  \u001b[33m...\u001b[0m  \u001b[1;36m0.828696\u001b[0m   \n",
       "\n",
       "        X_6       X_7       X_8       X_9      X_10      X_11      X_12  \\\n",
       "\u001b[1;36m0\u001b[0m  \u001b[1;36m0.355725\u001b[0m  \u001b[1;36m0.909741\u001b[0m  \u001b[1;36m0.405124\u001b[0m  \u001b[1;36m0.260767\u001b[0m  \u001b[1;36m0.103618\u001b[0m  \u001b[1;36m0.406376\u001b[0m  \u001b[1;36m0.017897\u001b[0m   \n",
       "\u001b[1;36m1\u001b[0m  \u001b[1;36m0.167300\u001b[0m  \u001b[1;36m0.525345\u001b[0m  \u001b[1;36m0.701071\u001b[0m  \u001b[1;36m0.032609\u001b[0m  \u001b[1;36m0.347617\u001b[0m  \u001b[1;36m0.805072\u001b[0m  \u001b[1;36m0.734602\u001b[0m   \n",
       "\u001b[1;36m2\u001b[0m  \u001b[1;36m0.185599\u001b[0m  \u001b[1;36m0.992303\u001b[0m  \u001b[1;36m0.778875\u001b[0m  \u001b[1;36m0.236489\u001b[0m  \u001b[1;36m0.317112\u001b[0m  \u001b[1;36m0.751187\u001b[0m  \u001b[1;36m0.080140\u001b[0m   \n",
       "\u001b[1;36m3\u001b[0m  \u001b[1;36m0.138928\u001b[0m  \u001b[1;36m0.515338\u001b[0m  \u001b[1;36m0.198236\u001b[0m  \u001b[1;36m0.515988\u001b[0m  \u001b[1;36m0.190489\u001b[0m  \u001b[1;36m0.459742\u001b[0m  \u001b[1;36m0.018711\u001b[0m   \n",
       "\u001b[1;36m4\u001b[0m  \u001b[1;36m0.991522\u001b[0m  \u001b[1;36m0.519209\u001b[0m  \u001b[1;36m0.068189\u001b[0m  \u001b[1;36m0.121944\u001b[0m  \u001b[1;36m0.326375\u001b[0m  \u001b[1;36m0.774543\u001b[0m  \u001b[1;36m0.898108\u001b[0m   \n",
       "\n",
       "       X_13      y  \n",
       "\u001b[1;36m0\u001b[0m  \u001b[1;36m0.518682\u001b[0m   \u001b[3;92mTrue\u001b[0m  \n",
       "\u001b[1;36m1\u001b[0m  \u001b[1;36m0.665720\u001b[0m  \u001b[3;91mFalse\u001b[0m  \n",
       "\u001b[1;36m2\u001b[0m  \u001b[1;36m0.272325\u001b[0m   \u001b[3;92mTrue\u001b[0m  \n",
       "\u001b[1;36m3\u001b[0m  \u001b[1;36m0.512552\u001b[0m  \u001b[3;91mFalse\u001b[0m  \n",
       "\u001b[1;36m4\u001b[0m  \u001b[1;36m0.173491\u001b[0m  \u001b[3;91mFalse\u001b[0m  \n",
       "\n",
       "\u001b[1m[\u001b[0m\u001b[1;36m5\u001b[0m rows x \u001b[1;36m35\u001b[0m columns\u001b[1m]\u001b[0m"
      ]
     },
     "execution_count": 5,
     "metadata": {},
     "output_type": "execute_result"
    }
   ],
   "source": [
    "dataset.head()"
   ]
  },
  {
   "cell_type": "code",
   "execution_count": 6,
   "metadata": {},
   "outputs": [
    {
     "data": {
      "text/html": [
       "<pre style=\"white-space:pre;overflow-x:auto;line-height:normal;font-family:Menlo,'DejaVu Sans Mono',consolas,'Courier New',monospace\"></pre>\n"
      ],
      "text/plain": []
     },
     "metadata": {},
     "output_type": "display_data"
    },
    {
     "data": {
      "text/plain": [
       "\n",
       "checking_status            object\n",
       "duration                    int64\n",
       "credit_history             object\n",
       "purpose                    object\n",
       "credit_amount             float64\n",
       "savings_status             object\n",
       "employment                 object\n",
       "installment_commitment      int64\n",
       "personal_status            object\n",
       "other_parties              object\n",
       "residence_since             int64\n",
       "property_magnitude         object\n",
       "age                         int64\n",
       "other_payment_plans        object\n",
       "housing                    object\n",
       "existing_credits            int64\n",
       "job                        object\n",
       "num_dependents              int64\n",
       "own_telephone              object\n",
       "foreign_worker             object\n",
       "health_status              object\n",
       "X_1                       float64\n",
       "X_2                       float64\n",
       "X_3                       float64\n",
       "X_4                       float64\n",
       "X_5                       float64\n",
       "X_6                       float64\n",
       "X_7                       float64\n",
       "X_8                       float64\n",
       "X_9                       float64\n",
       "X_10                      float64\n",
       "X_11                      float64\n",
       "X_12                      float64\n",
       "X_13                      float64\n",
       "y                            bool\n",
       "dtype: object"
      ]
     },
     "execution_count": 6,
     "metadata": {},
     "output_type": "execute_result"
    }
   ],
   "source": [
    "dataset.dtypes"
   ]
  },
  {
   "cell_type": "code",
   "execution_count": 19,
   "metadata": {},
   "outputs": [
    {
     "data": {
      "text/html": [
       "<pre style=\"white-space:pre;overflow-x:auto;line-height:normal;font-family:Menlo,'DejaVu Sans Mono',consolas,'Courier New',monospace\"></pre>\n"
      ],
      "text/plain": []
     },
     "metadata": {},
     "output_type": "display_data"
    },
    {
     "data": {
      "text/html": [
       "<div>\n",
       "<style scoped>\n",
       "    .dataframe tbody tr th:only-of-type {\n",
       "        vertical-align: middle;\n",
       "    }\n",
       "\n",
       "    .dataframe tbody tr th {\n",
       "        vertical-align: top;\n",
       "    }\n",
       "\n",
       "    .dataframe thead th {\n",
       "        text-align: right;\n",
       "    }\n",
       "</style>\n",
       "<table border=\"1\" class=\"dataframe\">\n",
       "  <thead>\n",
       "    <tr style=\"text-align: right;\">\n",
       "      <th></th>\n",
       "      <th>checking_status</th>\n",
       "      <th>duration</th>\n",
       "      <th>credit_history</th>\n",
       "      <th>purpose</th>\n",
       "      <th>credit_amount</th>\n",
       "      <th>savings_status</th>\n",
       "      <th>employment</th>\n",
       "      <th>installment_commitment</th>\n",
       "      <th>personal_status</th>\n",
       "      <th>other_parties</th>\n",
       "      <th>...</th>\n",
       "      <th>X_5</th>\n",
       "      <th>X_6</th>\n",
       "      <th>X_7</th>\n",
       "      <th>X_8</th>\n",
       "      <th>X_9</th>\n",
       "      <th>X_10</th>\n",
       "      <th>X_11</th>\n",
       "      <th>X_12</th>\n",
       "      <th>X_13</th>\n",
       "      <th>y</th>\n",
       "    </tr>\n",
       "  </thead>\n",
       "  <tbody>\n",
       "    <tr>\n",
       "      <th>83</th>\n",
       "      <td>&lt;0</td>\n",
       "      <td>8</td>\n",
       "      <td>critical/other existing credit</td>\n",
       "      <td>new car</td>\n",
       "      <td>3398.0</td>\n",
       "      <td>&lt;100</td>\n",
       "      <td>4&lt;=X&lt;7</td>\n",
       "      <td>1</td>\n",
       "      <td>male single</td>\n",
       "      <td>none</td>\n",
       "      <td>...</td>\n",
       "      <td>0.314531</td>\n",
       "      <td>0.838259</td>\n",
       "      <td>0.064414</td>\n",
       "      <td>0.675418</td>\n",
       "      <td>0.046085</td>\n",
       "      <td>0.786261</td>\n",
       "      <td>0.188436</td>\n",
       "      <td>0.198783</td>\n",
       "      <td>0.610006</td>\n",
       "      <td>True</td>\n",
       "    </tr>\n",
       "  </tbody>\n",
       "</table>\n",
       "<p>1 rows × 35 columns</p>\n",
       "</div>"
      ],
      "text/plain": [
       "\n",
       "   checking_status  duration                  credit_history  purpose  \\\n",
       "\u001b[1;36m83\u001b[0m              <\u001b[1;36m0\u001b[0m         \u001b[1;36m8\u001b[0m  critical/other existing credit  new car   \n",
       "\n",
       "    credit_amount savings_status employment  installment_commitment  \\\n",
       "\u001b[1;36m83\u001b[0m         \u001b[1;36m3398.0\u001b[0m           <\u001b[1;36m100\u001b[0m     \u001b[1;36m4\u001b[0m<=X<\u001b[1;36m7\u001b[0m                       \u001b[1;36m1\u001b[0m   \n",
       "\n",
       "   personal_status other_parties  \u001b[33m...\u001b[0m       X_5       X_6       X_7       X_8  \\\n",
       "\u001b[1;36m83\u001b[0m     male single          none  \u001b[33m...\u001b[0m  \u001b[1;36m0.314531\u001b[0m  \u001b[1;36m0.838259\u001b[0m  \u001b[1;36m0.064414\u001b[0m  \u001b[1;36m0.675418\u001b[0m   \n",
       "\n",
       "         X_9      X_10      X_11      X_12      X_13     y  \n",
       "\u001b[1;36m83\u001b[0m  \u001b[1;36m0.046085\u001b[0m  \u001b[1;36m0.786261\u001b[0m  \u001b[1;36m0.188436\u001b[0m  \u001b[1;36m0.198783\u001b[0m  \u001b[1;36m0.610006\u001b[0m  \u001b[3;92mTrue\u001b[0m  \n",
       "\n",
       "\u001b[1m[\u001b[0m\u001b[1;36m1\u001b[0m rows x \u001b[1;36m35\u001b[0m columns\u001b[1m]\u001b[0m"
      ]
     },
     "execution_count": 19,
     "metadata": {},
     "output_type": "execute_result"
    }
   ],
   "source": [
    "# dataset[dataset['foreign_worker']=='no']"
   ]
  },
  {
   "cell_type": "code",
   "execution_count": 7,
   "metadata": {},
   "outputs": [
    {
     "data": {
      "text/html": [
       "<pre style=\"white-space:pre;overflow-x:auto;line-height:normal;font-family:Menlo,'DejaVu Sans Mono',consolas,'Courier New',monospace\"></pre>\n"
      ],
      "text/plain": []
     },
     "metadata": {},
     "output_type": "display_data"
    },
    {
     "data": {
      "text/html": [
       "<div>\n",
       "<style scoped>\n",
       "    .dataframe tbody tr th:only-of-type {\n",
       "        vertical-align: middle;\n",
       "    }\n",
       "\n",
       "    .dataframe tbody tr th {\n",
       "        vertical-align: top;\n",
       "    }\n",
       "\n",
       "    .dataframe thead th {\n",
       "        text-align: right;\n",
       "    }\n",
       "</style>\n",
       "<table border=\"1\" class=\"dataframe\">\n",
       "  <thead>\n",
       "    <tr style=\"text-align: right;\">\n",
       "      <th></th>\n",
       "      <th>checking_status</th>\n",
       "      <th>duration</th>\n",
       "      <th>credit_history</th>\n",
       "      <th>purpose</th>\n",
       "      <th>credit_amount</th>\n",
       "      <th>savings_status</th>\n",
       "      <th>employment</th>\n",
       "      <th>installment_commitment</th>\n",
       "      <th>personal_status</th>\n",
       "      <th>other_parties</th>\n",
       "      <th>...</th>\n",
       "      <th>X_5</th>\n",
       "      <th>X_6</th>\n",
       "      <th>X_7</th>\n",
       "      <th>X_8</th>\n",
       "      <th>X_9</th>\n",
       "      <th>X_10</th>\n",
       "      <th>X_11</th>\n",
       "      <th>X_12</th>\n",
       "      <th>X_13</th>\n",
       "      <th>y</th>\n",
       "    </tr>\n",
       "  </thead>\n",
       "  <tbody>\n",
       "    <tr>\n",
       "      <th>0</th>\n",
       "      <td>no checking</td>\n",
       "      <td>15</td>\n",
       "      <td>existing paid</td>\n",
       "      <td>furniture/equipment</td>\n",
       "      <td>2186.0</td>\n",
       "      <td>no known savings</td>\n",
       "      <td>4&lt;=X&lt;7</td>\n",
       "      <td>1</td>\n",
       "      <td>female div/dep/mar</td>\n",
       "      <td>none</td>\n",
       "      <td>...</td>\n",
       "      <td>0.048244</td>\n",
       "      <td>0.355725</td>\n",
       "      <td>0.909741</td>\n",
       "      <td>0.405124</td>\n",
       "      <td>0.260767</td>\n",
       "      <td>0.103618</td>\n",
       "      <td>0.406376</td>\n",
       "      <td>0.017897</td>\n",
       "      <td>0.518682</td>\n",
       "      <td>True</td>\n",
       "    </tr>\n",
       "    <tr>\n",
       "      <th>1</th>\n",
       "      <td>no checking</td>\n",
       "      <td>36</td>\n",
       "      <td>critical/other existing credit</td>\n",
       "      <td>new car</td>\n",
       "      <td>7855.0</td>\n",
       "      <td>&lt;100</td>\n",
       "      <td>1&lt;=X&lt;4</td>\n",
       "      <td>4</td>\n",
       "      <td>female div/dep/mar</td>\n",
       "      <td>none</td>\n",
       "      <td>...</td>\n",
       "      <td>0.848429</td>\n",
       "      <td>0.167300</td>\n",
       "      <td>0.525345</td>\n",
       "      <td>0.701071</td>\n",
       "      <td>0.032609</td>\n",
       "      <td>0.347617</td>\n",
       "      <td>0.805072</td>\n",
       "      <td>0.734602</td>\n",
       "      <td>0.665720</td>\n",
       "      <td>False</td>\n",
       "    </tr>\n",
       "    <tr>\n",
       "      <th>2</th>\n",
       "      <td>no checking</td>\n",
       "      <td>24</td>\n",
       "      <td>critical/other existing credit</td>\n",
       "      <td>radio/tv</td>\n",
       "      <td>5103.0</td>\n",
       "      <td>&lt;100</td>\n",
       "      <td>&lt;1</td>\n",
       "      <td>3</td>\n",
       "      <td>male mar/wid</td>\n",
       "      <td>none</td>\n",
       "      <td>...</td>\n",
       "      <td>0.135713</td>\n",
       "      <td>0.185599</td>\n",
       "      <td>0.992303</td>\n",
       "      <td>0.778875</td>\n",
       "      <td>0.236489</td>\n",
       "      <td>0.317112</td>\n",
       "      <td>0.751187</td>\n",
       "      <td>0.080140</td>\n",
       "      <td>0.272325</td>\n",
       "      <td>True</td>\n",
       "    </tr>\n",
       "    <tr>\n",
       "      <th>3</th>\n",
       "      <td>no checking</td>\n",
       "      <td>18</td>\n",
       "      <td>delayed previously</td>\n",
       "      <td>business</td>\n",
       "      <td>2169.0</td>\n",
       "      <td>&lt;100</td>\n",
       "      <td>1&lt;=X&lt;4</td>\n",
       "      <td>4</td>\n",
       "      <td>male mar/wid</td>\n",
       "      <td>none</td>\n",
       "      <td>...</td>\n",
       "      <td>0.595960</td>\n",
       "      <td>0.138928</td>\n",
       "      <td>0.515338</td>\n",
       "      <td>0.198236</td>\n",
       "      <td>0.515988</td>\n",
       "      <td>0.190489</td>\n",
       "      <td>0.459742</td>\n",
       "      <td>0.018711</td>\n",
       "      <td>0.512552</td>\n",
       "      <td>False</td>\n",
       "    </tr>\n",
       "    <tr>\n",
       "      <th>4</th>\n",
       "      <td>&lt;0</td>\n",
       "      <td>30</td>\n",
       "      <td>existing paid</td>\n",
       "      <td>furniture/equipment</td>\n",
       "      <td>6350.0</td>\n",
       "      <td>no known savings</td>\n",
       "      <td>&gt;=7</td>\n",
       "      <td>4</td>\n",
       "      <td>male single</td>\n",
       "      <td>none</td>\n",
       "      <td>...</td>\n",
       "      <td>0.828696</td>\n",
       "      <td>0.991522</td>\n",
       "      <td>0.519209</td>\n",
       "      <td>0.068189</td>\n",
       "      <td>0.121944</td>\n",
       "      <td>0.326375</td>\n",
       "      <td>0.774543</td>\n",
       "      <td>0.898108</td>\n",
       "      <td>0.173491</td>\n",
       "      <td>False</td>\n",
       "    </tr>\n",
       "    <tr>\n",
       "      <th>...</th>\n",
       "      <td>...</td>\n",
       "      <td>...</td>\n",
       "      <td>...</td>\n",
       "      <td>...</td>\n",
       "      <td>...</td>\n",
       "      <td>...</td>\n",
       "      <td>...</td>\n",
       "      <td>...</td>\n",
       "      <td>...</td>\n",
       "      <td>...</td>\n",
       "      <td>...</td>\n",
       "      <td>...</td>\n",
       "      <td>...</td>\n",
       "      <td>...</td>\n",
       "      <td>...</td>\n",
       "      <td>...</td>\n",
       "      <td>...</td>\n",
       "      <td>...</td>\n",
       "      <td>...</td>\n",
       "      <td>...</td>\n",
       "      <td>...</td>\n",
       "    </tr>\n",
       "    <tr>\n",
       "      <th>95</th>\n",
       "      <td>0&lt;=X&lt;200</td>\n",
       "      <td>24</td>\n",
       "      <td>existing paid</td>\n",
       "      <td>new car</td>\n",
       "      <td>2718.0</td>\n",
       "      <td>&lt;100</td>\n",
       "      <td>1&lt;=X&lt;4</td>\n",
       "      <td>3</td>\n",
       "      <td>female div/dep/mar</td>\n",
       "      <td>none</td>\n",
       "      <td>...</td>\n",
       "      <td>0.882218</td>\n",
       "      <td>0.883794</td>\n",
       "      <td>0.233441</td>\n",
       "      <td>0.150932</td>\n",
       "      <td>0.499922</td>\n",
       "      <td>0.434244</td>\n",
       "      <td>0.140232</td>\n",
       "      <td>0.187078</td>\n",
       "      <td>0.141813</td>\n",
       "      <td>False</td>\n",
       "    </tr>\n",
       "    <tr>\n",
       "      <th>96</th>\n",
       "      <td>no checking</td>\n",
       "      <td>12</td>\n",
       "      <td>critical/other existing credit</td>\n",
       "      <td>education</td>\n",
       "      <td>2096.0</td>\n",
       "      <td>&lt;100</td>\n",
       "      <td>4&lt;=X&lt;7</td>\n",
       "      <td>2</td>\n",
       "      <td>male single</td>\n",
       "      <td>none</td>\n",
       "      <td>...</td>\n",
       "      <td>0.149197</td>\n",
       "      <td>0.043498</td>\n",
       "      <td>0.134882</td>\n",
       "      <td>0.350446</td>\n",
       "      <td>0.889813</td>\n",
       "      <td>0.760545</td>\n",
       "      <td>0.261638</td>\n",
       "      <td>0.823732</td>\n",
       "      <td>0.053394</td>\n",
       "      <td>True</td>\n",
       "    </tr>\n",
       "    <tr>\n",
       "      <th>97</th>\n",
       "      <td>no checking</td>\n",
       "      <td>36</td>\n",
       "      <td>critical/other existing credit</td>\n",
       "      <td>new car</td>\n",
       "      <td>6614.0</td>\n",
       "      <td>&lt;100</td>\n",
       "      <td>&gt;=7</td>\n",
       "      <td>4</td>\n",
       "      <td>male single</td>\n",
       "      <td>none</td>\n",
       "      <td>...</td>\n",
       "      <td>0.424718</td>\n",
       "      <td>0.253165</td>\n",
       "      <td>0.242619</td>\n",
       "      <td>0.903971</td>\n",
       "      <td>0.694778</td>\n",
       "      <td>0.517654</td>\n",
       "      <td>0.707042</td>\n",
       "      <td>0.575040</td>\n",
       "      <td>0.073795</td>\n",
       "      <td>False</td>\n",
       "    </tr>\n",
       "    <tr>\n",
       "      <th>98</th>\n",
       "      <td>no checking</td>\n",
       "      <td>12</td>\n",
       "      <td>existing paid</td>\n",
       "      <td>radio/tv</td>\n",
       "      <td>1493.0</td>\n",
       "      <td>&lt;100</td>\n",
       "      <td>&lt;1</td>\n",
       "      <td>4</td>\n",
       "      <td>female div/dep/mar</td>\n",
       "      <td>none</td>\n",
       "      <td>...</td>\n",
       "      <td>0.469677</td>\n",
       "      <td>0.654652</td>\n",
       "      <td>0.316479</td>\n",
       "      <td>0.831883</td>\n",
       "      <td>0.405854</td>\n",
       "      <td>0.259628</td>\n",
       "      <td>0.350143</td>\n",
       "      <td>0.868693</td>\n",
       "      <td>0.065413</td>\n",
       "      <td>True</td>\n",
       "    </tr>\n",
       "    <tr>\n",
       "      <th>99</th>\n",
       "      <td>no checking</td>\n",
       "      <td>18</td>\n",
       "      <td>critical/other existing credit</td>\n",
       "      <td>education</td>\n",
       "      <td>1864.0</td>\n",
       "      <td>100&lt;=X&lt;500</td>\n",
       "      <td>1&lt;=X&lt;4</td>\n",
       "      <td>4</td>\n",
       "      <td>female div/dep/mar</td>\n",
       "      <td>none</td>\n",
       "      <td>...</td>\n",
       "      <td>0.557202</td>\n",
       "      <td>0.300939</td>\n",
       "      <td>0.362722</td>\n",
       "      <td>0.684180</td>\n",
       "      <td>0.774063</td>\n",
       "      <td>0.283213</td>\n",
       "      <td>0.436374</td>\n",
       "      <td>0.226074</td>\n",
       "      <td>0.129677</td>\n",
       "      <td>False</td>\n",
       "    </tr>\n",
       "  </tbody>\n",
       "</table>\n",
       "<p>100 rows × 35 columns</p>\n",
       "</div>"
      ],
      "text/plain": [
       "\n",
       "   checking_status  duration                  credit_history  \\\n",
       "\u001b[1;36m0\u001b[0m      no checking        \u001b[1;36m15\u001b[0m                   existing paid   \n",
       "\u001b[1;36m1\u001b[0m      no checking        \u001b[1;36m36\u001b[0m  critical/other existing credit   \n",
       "\u001b[1;36m2\u001b[0m      no checking        \u001b[1;36m24\u001b[0m  critical/other existing credit   \n",
       "\u001b[1;36m3\u001b[0m      no checking        \u001b[1;36m18\u001b[0m              delayed previously   \n",
       "\u001b[1;36m4\u001b[0m               \u001b[1m<\u001b[0m\u001b[1;36m0\u001b[0m\u001b[39m        \u001b[0m\u001b[1;36m30\u001b[0m\u001b[39m                   existing paid   \u001b[0m\n",
       "\u001b[39m..             \u001b[0m\u001b[33m...\u001b[0m\u001b[39m       \u001b[0m\u001b[33m...\u001b[0m\u001b[39m                             \u001b[0m\u001b[33m...\u001b[0m\u001b[39m   \u001b[0m\n",
       "\u001b[1;36m95\u001b[0m\u001b[39m        \u001b[0m\u001b[1;36m0\u001b[0m\u001b[39m<=X<\u001b[0m\u001b[1;36m200\u001b[0m\u001b[39m        \u001b[0m\u001b[1;36m24\u001b[0m\u001b[39m                   existing paid   \u001b[0m\n",
       "\u001b[1;36m96\u001b[0m\u001b[39m     no checking        \u001b[0m\u001b[1;36m12\u001b[0m\u001b[39m  critical/other existing credit   \u001b[0m\n",
       "\u001b[1;36m97\u001b[0m\u001b[39m     no checking        \u001b[0m\u001b[1;36m36\u001b[0m\u001b[39m  critical/other existing credit   \u001b[0m\n",
       "\u001b[1;36m98\u001b[0m\u001b[39m     no checking        \u001b[0m\u001b[1;36m12\u001b[0m\u001b[39m                   existing paid   \u001b[0m\n",
       "\u001b[1;36m99\u001b[0m\u001b[39m     no checking        \u001b[0m\u001b[1;36m18\u001b[0m\u001b[39m  critical/other existing credit   \u001b[0m\n",
       "\n",
       "\u001b[39m                purpose  credit_amount    savings_status employment  \\\u001b[0m\n",
       "\u001b[1;36m0\u001b[0m\u001b[39m   furniture/equipment         \u001b[0m\u001b[1;36m2186.0\u001b[0m\u001b[39m  no known savings     \u001b[0m\u001b[1;36m4\u001b[0m\u001b[39m<=X<\u001b[0m\u001b[1;36m7\u001b[0m\u001b[39m   \u001b[0m\n",
       "\u001b[1;36m1\u001b[0m\u001b[39m               new car         \u001b[0m\u001b[1;36m7855.0\u001b[0m\u001b[39m              <\u001b[0m\u001b[1;36m100\u001b[0m\u001b[39m     \u001b[0m\u001b[1;36m1\u001b[0m\u001b[39m<=X<\u001b[0m\u001b[1;36m4\u001b[0m\u001b[39m   \u001b[0m\n",
       "\u001b[1;36m2\u001b[0m\u001b[39m              radio/tv         \u001b[0m\u001b[1;36m5103.0\u001b[0m\u001b[39m              <\u001b[0m\u001b[1;36m100\u001b[0m\u001b[39m         <\u001b[0m\u001b[1;36m1\u001b[0m\u001b[39m   \u001b[0m\n",
       "\u001b[1;36m3\u001b[0m\u001b[39m              business         \u001b[0m\u001b[1;36m2169.0\u001b[0m\u001b[39m              <\u001b[0m\u001b[1;36m100\u001b[0m\u001b[39m     \u001b[0m\u001b[1;36m1\u001b[0m\u001b[39m<=X<\u001b[0m\u001b[1;36m4\u001b[0m\u001b[39m   \u001b[0m\n",
       "\u001b[1;36m4\u001b[0m\u001b[39m   furniture/equipment         \u001b[0m\u001b[1;36m6350.0\u001b[0m\u001b[39m  no known savings        >=\u001b[0m\u001b[1;36m7\u001b[0m\u001b[39m   \u001b[0m\n",
       "\u001b[39m..                  \u001b[0m\u001b[33m...\u001b[0m\u001b[39m            \u001b[0m\u001b[33m...\u001b[0m\u001b[39m               \u001b[0m\u001b[33m...\u001b[0m\u001b[39m        \u001b[0m\u001b[33m...\u001b[0m\u001b[39m   \u001b[0m\n",
       "\u001b[1;36m95\u001b[0m\u001b[39m              new car         \u001b[0m\u001b[1;36m2718.0\u001b[0m\u001b[39m              <\u001b[0m\u001b[1;36m100\u001b[0m\u001b[39m     \u001b[0m\u001b[1;36m1\u001b[0m\u001b[39m<=X<\u001b[0m\u001b[1;36m4\u001b[0m\u001b[39m   \u001b[0m\n",
       "\u001b[1;36m96\u001b[0m\u001b[39m            education         \u001b[0m\u001b[1;36m2096.0\u001b[0m\u001b[39m              <\u001b[0m\u001b[1;36m100\u001b[0m\u001b[39m     \u001b[0m\u001b[1;36m4\u001b[0m\u001b[39m<=X<\u001b[0m\u001b[1;36m7\u001b[0m\u001b[39m   \u001b[0m\n",
       "\u001b[1;36m97\u001b[0m\u001b[39m              new car         \u001b[0m\u001b[1;36m6614.0\u001b[0m\u001b[39m              <\u001b[0m\u001b[1;36m100\u001b[0m\u001b[39m        \u001b[0m\u001b[1m>\u001b[0m=\u001b[1;36m7\u001b[0m   \n",
       "\u001b[1;36m98\u001b[0m             radio/tv         \u001b[1;36m1493.0\u001b[0m              <\u001b[1;36m100\u001b[0m         <\u001b[1;36m1\u001b[0m   \n",
       "\u001b[1;36m99\u001b[0m            education         \u001b[1;36m1864.0\u001b[0m        \u001b[1;36m100\u001b[0m<=X<\u001b[1;36m500\u001b[0m     \u001b[1;36m1\u001b[0m<=X<\u001b[1;36m4\u001b[0m   \n",
       "\n",
       "    installment_commitment     personal_status other_parties  \u001b[33m...\u001b[0m       X_5  \\\n",
       "\u001b[1;36m0\u001b[0m                        \u001b[1;36m1\u001b[0m  female div/dep/mar          none  \u001b[33m...\u001b[0m  \u001b[1;36m0.048244\u001b[0m   \n",
       "\u001b[1;36m1\u001b[0m                        \u001b[1;36m4\u001b[0m  female div/dep/mar          none  \u001b[33m...\u001b[0m  \u001b[1;36m0.848429\u001b[0m   \n",
       "\u001b[1;36m2\u001b[0m                        \u001b[1;36m3\u001b[0m        male mar/wid          none  \u001b[33m...\u001b[0m  \u001b[1;36m0.135713\u001b[0m   \n",
       "\u001b[1;36m3\u001b[0m                        \u001b[1;36m4\u001b[0m        male mar/wid          none  \u001b[33m...\u001b[0m  \u001b[1;36m0.595960\u001b[0m   \n",
       "\u001b[1;36m4\u001b[0m                        \u001b[1;36m4\u001b[0m         male single          none  \u001b[33m...\u001b[0m  \u001b[1;36m0.828696\u001b[0m   \n",
       "..                     \u001b[33m...\u001b[0m                 \u001b[33m...\u001b[0m           \u001b[33m...\u001b[0m  \u001b[33m...\u001b[0m       \u001b[33m...\u001b[0m   \n",
       "\u001b[1;36m95\u001b[0m                       \u001b[1;36m3\u001b[0m  female div/dep/mar          none  \u001b[33m...\u001b[0m  \u001b[1;36m0.882218\u001b[0m   \n",
       "\u001b[1;36m96\u001b[0m                       \u001b[1;36m2\u001b[0m         male single          none  \u001b[33m...\u001b[0m  \u001b[1;36m0.149197\u001b[0m   \n",
       "\u001b[1;36m97\u001b[0m                       \u001b[1;36m4\u001b[0m         male single          none  \u001b[33m...\u001b[0m  \u001b[1;36m0.424718\u001b[0m   \n",
       "\u001b[1;36m98\u001b[0m                       \u001b[1;36m4\u001b[0m  female div/dep/mar          none  \u001b[33m...\u001b[0m  \u001b[1;36m0.469677\u001b[0m   \n",
       "\u001b[1;36m99\u001b[0m                       \u001b[1;36m4\u001b[0m  female div/dep/mar          none  \u001b[33m...\u001b[0m  \u001b[1;36m0.557202\u001b[0m   \n",
       "\n",
       "         X_6       X_7       X_8       X_9      X_10      X_11      X_12  \\\n",
       "\u001b[1;36m0\u001b[0m   \u001b[1;36m0.355725\u001b[0m  \u001b[1;36m0.909741\u001b[0m  \u001b[1;36m0.405124\u001b[0m  \u001b[1;36m0.260767\u001b[0m  \u001b[1;36m0.103618\u001b[0m  \u001b[1;36m0.406376\u001b[0m  \u001b[1;36m0.017897\u001b[0m   \n",
       "\u001b[1;36m1\u001b[0m   \u001b[1;36m0.167300\u001b[0m  \u001b[1;36m0.525345\u001b[0m  \u001b[1;36m0.701071\u001b[0m  \u001b[1;36m0.032609\u001b[0m  \u001b[1;36m0.347617\u001b[0m  \u001b[1;36m0.805072\u001b[0m  \u001b[1;36m0.734602\u001b[0m   \n",
       "\u001b[1;36m2\u001b[0m   \u001b[1;36m0.185599\u001b[0m  \u001b[1;36m0.992303\u001b[0m  \u001b[1;36m0.778875\u001b[0m  \u001b[1;36m0.236489\u001b[0m  \u001b[1;36m0.317112\u001b[0m  \u001b[1;36m0.751187\u001b[0m  \u001b[1;36m0.080140\u001b[0m   \n",
       "\u001b[1;36m3\u001b[0m   \u001b[1;36m0.138928\u001b[0m  \u001b[1;36m0.515338\u001b[0m  \u001b[1;36m0.198236\u001b[0m  \u001b[1;36m0.515988\u001b[0m  \u001b[1;36m0.190489\u001b[0m  \u001b[1;36m0.459742\u001b[0m  \u001b[1;36m0.018711\u001b[0m   \n",
       "\u001b[1;36m4\u001b[0m   \u001b[1;36m0.991522\u001b[0m  \u001b[1;36m0.519209\u001b[0m  \u001b[1;36m0.068189\u001b[0m  \u001b[1;36m0.121944\u001b[0m  \u001b[1;36m0.326375\u001b[0m  \u001b[1;36m0.774543\u001b[0m  \u001b[1;36m0.898108\u001b[0m   \n",
       "..       \u001b[33m...\u001b[0m       \u001b[33m...\u001b[0m       \u001b[33m...\u001b[0m       \u001b[33m...\u001b[0m       \u001b[33m...\u001b[0m       \u001b[33m...\u001b[0m       \u001b[33m...\u001b[0m   \n",
       "\u001b[1;36m95\u001b[0m  \u001b[1;36m0.883794\u001b[0m  \u001b[1;36m0.233441\u001b[0m  \u001b[1;36m0.150932\u001b[0m  \u001b[1;36m0.499922\u001b[0m  \u001b[1;36m0.434244\u001b[0m  \u001b[1;36m0.140232\u001b[0m  \u001b[1;36m0.187078\u001b[0m   \n",
       "\u001b[1;36m96\u001b[0m  \u001b[1;36m0.043498\u001b[0m  \u001b[1;36m0.134882\u001b[0m  \u001b[1;36m0.350446\u001b[0m  \u001b[1;36m0.889813\u001b[0m  \u001b[1;36m0.760545\u001b[0m  \u001b[1;36m0.261638\u001b[0m  \u001b[1;36m0.823732\u001b[0m   \n",
       "\u001b[1;36m97\u001b[0m  \u001b[1;36m0.253165\u001b[0m  \u001b[1;36m0.242619\u001b[0m  \u001b[1;36m0.903971\u001b[0m  \u001b[1;36m0.694778\u001b[0m  \u001b[1;36m0.517654\u001b[0m  \u001b[1;36m0.707042\u001b[0m  \u001b[1;36m0.575040\u001b[0m   \n",
       "\u001b[1;36m98\u001b[0m  \u001b[1;36m0.654652\u001b[0m  \u001b[1;36m0.316479\u001b[0m  \u001b[1;36m0.831883\u001b[0m  \u001b[1;36m0.405854\u001b[0m  \u001b[1;36m0.259628\u001b[0m  \u001b[1;36m0.350143\u001b[0m  \u001b[1;36m0.868693\u001b[0m   \n",
       "\u001b[1;36m99\u001b[0m  \u001b[1;36m0.300939\u001b[0m  \u001b[1;36m0.362722\u001b[0m  \u001b[1;36m0.684180\u001b[0m  \u001b[1;36m0.774063\u001b[0m  \u001b[1;36m0.283213\u001b[0m  \u001b[1;36m0.436374\u001b[0m  \u001b[1;36m0.226074\u001b[0m   \n",
       "\n",
       "        X_13      y  \n",
       "\u001b[1;36m0\u001b[0m   \u001b[1;36m0.518682\u001b[0m   \u001b[3;92mTrue\u001b[0m  \n",
       "\u001b[1;36m1\u001b[0m   \u001b[1;36m0.665720\u001b[0m  \u001b[3;91mFalse\u001b[0m  \n",
       "\u001b[1;36m2\u001b[0m   \u001b[1;36m0.272325\u001b[0m   \u001b[3;92mTrue\u001b[0m  \n",
       "\u001b[1;36m3\u001b[0m   \u001b[1;36m0.512552\u001b[0m  \u001b[3;91mFalse\u001b[0m  \n",
       "\u001b[1;36m4\u001b[0m   \u001b[1;36m0.173491\u001b[0m  \u001b[3;91mFalse\u001b[0m  \n",
       "..       \u001b[33m...\u001b[0m    \u001b[33m...\u001b[0m  \n",
       "\u001b[1;36m95\u001b[0m  \u001b[1;36m0.141813\u001b[0m  \u001b[3;91mFalse\u001b[0m  \n",
       "\u001b[1;36m96\u001b[0m  \u001b[1;36m0.053394\u001b[0m   \u001b[3;92mTrue\u001b[0m  \n",
       "\u001b[1;36m97\u001b[0m  \u001b[1;36m0.073795\u001b[0m  \u001b[3;91mFalse\u001b[0m  \n",
       "\u001b[1;36m98\u001b[0m  \u001b[1;36m0.065413\u001b[0m   \u001b[3;92mTrue\u001b[0m  \n",
       "\u001b[1;36m99\u001b[0m  \u001b[1;36m0.129677\u001b[0m  \u001b[3;91mFalse\u001b[0m  \n",
       "\n",
       "\u001b[1m[\u001b[0m\u001b[1;36m100\u001b[0m rows x \u001b[1;36m35\u001b[0m columns\u001b[1m]\u001b[0m"
      ]
     },
     "execution_count": 7,
     "metadata": {},
     "output_type": "execute_result"
    }
   ],
   "source": [
    "dataset.dropna()"
   ]
  },
  {
   "cell_type": "code",
   "execution_count": 23,
   "metadata": {},
   "outputs": [],
   "source": [
    "import pandas as pd\n",
    "\n",
    "def isTelephone(x:pd.Series) -> pd.Series:\n",
    "    return x==\"yes\""
   ]
  },
  {
   "cell_type": "code",
   "execution_count": 24,
   "metadata": {},
   "outputs": [],
   "source": [
    "dataset['own_telephone'] = isTelephone(dataset['own_telephone'])"
   ]
  },
  {
   "cell_type": "code",
   "execution_count": 26,
   "metadata": {},
   "outputs": [
    {
     "data": {
      "text/html": [
       "<pre style=\"white-space:pre;overflow-x:auto;line-height:normal;font-family:Menlo,'DejaVu Sans Mono',consolas,'Courier New',monospace\"></pre>\n"
      ],
      "text/plain": []
     },
     "metadata": {},
     "output_type": "display_data"
    },
    {
     "data": {
      "text/plain": [
       "\n",
       "\u001b[1;36m0\u001b[0m     \u001b[3;91mFalse\u001b[0m\n",
       "\u001b[1;36m1\u001b[0m      \u001b[3;92mTrue\u001b[0m\n",
       "\u001b[1;36m2\u001b[0m      \u001b[3;92mTrue\u001b[0m\n",
       "\u001b[1;36m3\u001b[0m      \u001b[3;92mTrue\u001b[0m\n",
       "\u001b[1;36m4\u001b[0m     \u001b[3;91mFalse\u001b[0m\n",
       "      \u001b[33m...\u001b[0m  \n",
       "\u001b[1;36m95\u001b[0m     \u001b[3;92mTrue\u001b[0m\n",
       "\u001b[1;36m96\u001b[0m    \u001b[3;91mFalse\u001b[0m\n",
       "\u001b[1;36m97\u001b[0m     \u001b[3;92mTrue\u001b[0m\n",
       "\u001b[1;36m98\u001b[0m    \u001b[3;91mFalse\u001b[0m\n",
       "\u001b[1;36m99\u001b[0m    \u001b[3;91mFalse\u001b[0m\n",
       "Name: own_telephone, Length: \u001b[1;36m100\u001b[0m, dtype: bool"
      ]
     },
     "execution_count": 26,
     "metadata": {},
     "output_type": "execute_result"
    }
   ],
   "source": [
    "dataset['own_telephone']"
   ]
  },
  {
   "cell_type": "code",
   "execution_count": null,
   "metadata": {},
   "outputs": [],
   "source": []
  }
 ],
 "metadata": {
  "kernelspec": {
   "display_name": "Python 3 (ipykernel)",
   "language": "python",
   "name": "python3"
  },
  "language_info": {
   "codemirror_mode": {
    "name": "ipython",
    "version": 3
   },
   "file_extension": ".py",
   "mimetype": "text/x-python",
   "name": "python",
   "nbconvert_exporter": "python",
   "pygments_lexer": "ipython3",
   "version": "3.12.5"
  }
 },
 "nbformat": 4,
 "nbformat_minor": 4
}

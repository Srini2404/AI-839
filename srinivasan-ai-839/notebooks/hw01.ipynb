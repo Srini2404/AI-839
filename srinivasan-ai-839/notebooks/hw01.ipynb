{
 "cells": [
  {
   "cell_type": "markdown",
   "metadata": {},
   "source": [
    "---\n",
    "title:  Project Card\n",
    "subtitle: Project Name\n",
    "version: v0.2\n",
    "card version: v0.1\n",
    "author: Srinivasan M\n",
    "date: 12-Aug-2024\n",
    "objective: >\n",
    "    The purpose of Project Cards is two folds. During development, it helps the developer think about the problem in a structured way w.r. t framing the problem, assessing the business value, viability, and many other aspects. \n",
    "\n",
    "    It can also serve as a document giving a high level overview of the system developed and deployed. With proper versioning, one can also see the evolution of the problem. It is meant to be a high level document and as details emerge, documents such Model Cards and Data Cards can be linked.\n",
    "tag: >\n",
    "    This notebook uses tags to render the output. Each call has a tag. There are three tags: objective, instruction, response. \n",
    "    The cell with objective tag explains the purpose of this project card. Cells with instruction tag, are the key sections of the document that must be filled.  A cell following immediately will have a tag response. You only fill the cell with response tag. DO NOT MODIFY the cells with tag instruction. Of course, feel free to modify to your needs. Once the format is agreed upon, stick to it.\n",
    "format:\n",
    "    html:\n",
    "        code-fold: true\n",
    "---"
   ]
  },
  {
   "cell_type": "markdown",
   "metadata": {
    "tags": [
     "objective"
    ]
   },
   "source": [
    "The purpose of Project Cards is two folds. During development, it helps the developer think about the problem in a structured way w.r. t framing the problem, assessing the business value, viability, and many other aspects. \n",
    "\n",
    "It can also serve as a document giving a high level overview of the system developed and deployed. With proper versioning, one can also see the evolution of the problem. It is meant to be a high level document and as details emerge, documents such Model Cards and Data Cards can be linked. \n",
    "\n",
    "The following are the different sections of the Project Cards.\n",
    "\n",
    "This notebook uses tags to render the output. Each call has a tag. There are three tags: objective, instruction, response. \n",
    "    The cell with objective tag explains the purpose of this project card. Cells with instruction tag, are the key sections of the document that must be filled.  A cell following immediately will have a tag response. You only fill the cell with response tag. DO NOT MODIFY the cells with tag instruction. Of course, feel free to modify to your needs. Once the format is agreed upon, stick to it."
   ]
  },
  {
   "cell_type": "markdown",
   "metadata": {
    "tags": [
     "instruction"
    ]
   },
   "source": [
    "# Business View"
   ]
  },
  {
   "cell_type": "markdown",
   "metadata": {},
   "source": [
    "## Background"
   ]
  },
  {
   "cell_type": "markdown",
   "metadata": {
    "tags": [
     "response"
    ]
   },
   "source": [
    "The real-estate business is evolving and challenging. Realtors are looking to attract customers to sell their houses and customers on the other hand want to get the best for what they pay."
   ]
  },
  {
   "cell_type": "markdown",
   "metadata": {
    "tags": [
     "instruction"
    ]
   },
   "source": [
    "## Problem\n",
    "_**What** is the problem being solved?_"
   ]
  },
  {
   "cell_type": "markdown",
   "metadata": {
    "tags": [
     "response"
    ]
   },
   "source": [
    "Help users or home buyers in buying houses and recommending them the best ones for the money they pay."
   ]
  },
  {
   "cell_type": "markdown",
   "metadata": {
    "tags": [
     "instruction"
    ]
   },
   "source": [
    "## Customer\n",
    "_**Who** it is for? Is that a _user_ or a _beneficiary_?\n",
    "What is the problem being solved? Who it is for?_"
   ]
  },
  {
   "cell_type": "markdown",
   "metadata": {
    "tags": [
     "response"
    ]
   },
   "source": [
    "The solution is for a laymen buyer who wants to buy a house."
   ]
  },
  {
   "cell_type": "markdown",
   "metadata": {
    "tags": [
     "instruction"
    ]
   },
   "source": [
    "## Value Proposition\n",
    "_Why it needs to be solved?_"
   ]
  },
  {
   "cell_type": "markdown",
   "metadata": {
    "tags": [
     "response"
    ]
   },
   "source": [
    "Having a place to live in is next to essential, it is important to assist them in doing it."
   ]
  },
  {
   "cell_type": "markdown",
   "metadata": {
    "tags": [
     "instruction"
    ]
   },
   "source": [
    "## Product\n",
    "_How does the solution look like? It is more of the experience, rather how it will be developed._"
   ]
  },
  {
   "cell_type": "markdown",
   "metadata": {
    "tags": [
     "response"
    ]
   },
   "source": [
    "It will be a user friendly webpage that will take in the user's input and provide the user with the recommendations."
   ]
  },
  {
   "cell_type": "markdown",
   "metadata": {
    "tags": [
     "instruction"
    ]
   },
   "source": [
    "## Objectives\n",
    "_Breakdown the product into key (business) objectives that need to be delivered?_\n",
    "[SMART Goals](https://med.stanford.edu/content/dam/sm/s-spire/documents/How-to-write-SMART-Goals-v2.pdf) is useful to frame"
   ]
  },
  {
   "cell_type": "markdown",
   "metadata": {
    "tags": [
     "response"
    ]
   },
   "source": [
    "To deliver a housing recommendation application using machine learning, we can set the following SMART objectives:\n",
    "\n",
    "1. Specific: Develop a machine learning model that recommends houses based on user preferences and budget.\n",
    "2. Measurable: Achieve an accuracy of at least 80% in predicting user preferences and recommending suitable houses.\n",
    "3. Achievable: Collect a dataset of at least 10,000 houses with relevant features such as location, price, size, amenities, etc.\n",
    "4. Relevant: Ensure that the recommended houses align with the user's preferences, budget, and location.\n",
    "5. Time-bound: Complete the development and testing of the housing recommendation application within 6 months.\n",
    "\n",
    "By setting these SMART objectives, we can ensure a clear and measurable path towards delivering a successful housing recommendation application using machine learning."
   ]
  },
  {
   "cell_type": "markdown",
   "metadata": {
    "tags": [
     "instruction"
    ]
   },
   "source": [
    "## Risks & Challenges\n",
    "_What are the challenges one can face and ways to overcome?_"
   ]
  },
  {
   "cell_type": "markdown",
   "metadata": {
    "tags": [
     "response"
    ]
   },
   "source": [
    "Some potential risks and challenges that we might face while creating the housing recommendation application are :\n",
    "\n",
    "1. Data Availability: Obtaining a comprehensive and reliable dataset of houses with relevant features such as location, price, size, amenities, etc. can be challenging. Limited or incomplete data may affect the accuracy and effectiveness of the recommendations.\n",
    "\n",
    "2. Data Quality: Ensuring the quality and accuracy of the collected data is crucial. Inaccurate or inconsistent data can lead to biased recommendations and unreliable predictions.\n",
    "\n",
    "3. Model Complexity: Developing a machine learning model that accurately predicts user preferences and recommends suitable houses can be complex. Choosing the right algorithms, feature engineering, and model optimization require expertise and careful consideration.\n",
    "\n",
    "4. User Adoption: Convincing users to adopt and trust the housing recommendation application may pose a challenge. Users may have concerns about privacy, data security, and the reliability of the recommendations.\n",
    "\n",
    "5. Scalability: Designing the application to handle a large number of users and a growing dataset can be challenging. Ensuring that the application remains responsive and efficient as the user base and data volume increase is essential.\n",
    "\n",
    "6. Interpretability: Interpreting and explaining the recommendations generated by the machine learning model can be difficult. Users may require transparency and understanding of how the recommendations are generated to build trust in the system.\n",
    "\n",
    "7. Regulatory Compliance: Adhering to data protection and privacy regulations can be a challenge. Ensuring that user data is handled securely and in compliance with applicable laws and regulations is essential.\n",
    "\n",
    "8. Model Maintenance: As the real estate market evolves, the machine learning model needs to be regularly updated and maintained to reflect changing trends and user preferences. Keeping the model up-to-date and relevant can be a continuous effort.\n",
    "\n",
    "9. User Feedback and Iteration: Incorporating user feedback and continuously improving the application based on user needs and preferences can be challenging. Balancing user expectations, business goals, and technical constraints requires effective communication and agile development practices.\n",
    "\n",
    "10. Technical Infrastructure: Setting up and maintaining the necessary technical infrastructure, including servers, databases, and deployment pipelines, can be complex. Ensuring the application is robust, scalable, and reliable requires careful planning and implementation.\n",
    "\n",
    "It is important to anticipate these risks and challenges and have mitigation strategies in place to address them effectively during the development and deployment of the housing recommendation application."
   ]
  },
  {
   "cell_type": "markdown",
   "metadata": {
    "tags": [
     "instruction"
    ]
   },
   "source": [
    "# ML View"
   ]
  },
  {
   "cell_type": "markdown",
   "metadata": {
    "tags": [
     "instruction"
    ]
   },
   "source": [
    "## Task\n",
    "_What type of prediction problem is this? Link [Model Card](https://arxiv.org/abs/1810.03993) when sufficient details become available (start small but early)_"
   ]
  },
  {
   "cell_type": "markdown",
   "metadata": {
    "tags": [
     "response"
    ]
   },
   "source": [
    "This is more of a recommendation problem that will recommend users the houses that intreset them and which closely aligns with their requirements. "
   ]
  },
  {
   "cell_type": "markdown",
   "metadata": {
    "tags": [
     "instruction"
    ]
   },
   "source": [
    "## Metrics\n",
    "_How will the solution be evaluated - What are the ML metrics? What are the business metrics? Link [Model Card](https://arxiv.org/abs/1810.03993) when sufficient details become available (start small but early)_"
   ]
  },
  {
   "cell_type": "markdown",
   "metadata": {
    "tags": [
     "response"
    ]
   },
   "source": []
  },
  {
   "cell_type": "markdown",
   "metadata": {
    "tags": [
     "instruction"
    ]
   },
   "source": [
    "## Evaluation\n",
    "_How will the solution be evaluated (process)? Link [Model Card](https://arxiv.org/abs/1810.03993) when sufficient details become available (start small but early)_"
   ]
  },
  {
   "cell_type": "markdown",
   "metadata": {
    "tags": [
     "response"
    ]
   },
   "source": [
    "your response"
   ]
  },
  {
   "cell_type": "markdown",
   "metadata": {
    "tags": [
     "instruction"
    ]
   },
   "source": [
    "## Data\n",
    "_What type of data is needed? How will it be collected - for training and for continuous improvement? Link  [Data Cards](https://arxiv.org/abs/2204.01075) when sufficient details become available (start small but early)_"
   ]
  },
  {
   "cell_type": "markdown",
   "metadata": {
    "tags": [
     "response"
    ]
   },
   "source": [
    "To train a housing recommendation model, we will need the following data:\n",
    "\n",
    "1. House Descriptions: This includes information such as the number of bedrooms, bathrooms, square footage, location, price, and any additional features or characteristics of the house.\n",
    "\n",
    "2. House Images: Images of the houses can be used to extract visual features and provide a more comprehensive understanding of the property.\n",
    "\n",
    "3. Proximity Data: Data on nearby amenities such as schools, colleges, marketplaces, hospitals, parks, and transportation facilities. This information helps assess the convenience and accessibility of the location.\n",
    "\n",
    "4. Amenities Data: Details about the amenities available within the house or the housing complex, such as swimming pools, gyms, parking spaces, security systems, and other facilities.\n",
    "\n",
    "Collecting this data can be done through various sources, including real estate websites, property listings, public APIs, and data scraping techniques. It is important to ensure the data is accurate, up-to-date, and representative of the target housing market.\n",
    "\n",
    "Additionally, data preprocessing steps may be required to clean and transform the data into a suitable format for training the recommendation model. This may involve handling missing values, normalizing numerical features, encoding categorical variables, and performing feature engineering to extract relevant information.\n",
    "\n",
    "By gathering and preparing this data, we can build a robust housing recommendation system that considers various factors and preferences to provide accurate and personalized recommendations to users."
   ]
  },
  {
   "cell_type": "markdown",
   "metadata": {
    "tags": [
     "instruction"
    ]
   },
   "source": [
    "## Plan/ Roadmap\n",
    "_Provide problem break-up, tentative timelines and deliverables? Use [PACT](https://nesslabs.com/smart-goals-pact) format if SMART is not suitable._"
   ]
  },
  {
   "cell_type": "markdown",
   "metadata": {
    "tags": [
     "response"
    ]
   },
   "source": []
  },
  {
   "cell_type": "markdown",
   "metadata": {
    "tags": [
     "instruction"
    ]
   },
   "source": [
    "## Continuous Improvement\n",
    "_How will the system/model will improve? Provide a plan and means._"
   ]
  },
  {
   "cell_type": "markdown",
   "metadata": {
    "tags": [
     "response"
    ]
   },
   "source": [
    "your response"
   ]
  },
  {
   "cell_type": "markdown",
   "metadata": {
    "tags": [
     "instruction"
    ]
   },
   "source": [
    "## Resources\n",
    "_What resources are needed? Estimate the cost!_"
   ]
  },
  {
   "cell_type": "markdown",
   "metadata": {
    "tags": [
     "response"
    ]
   },
   "source": [
    "your response"
   ]
  },
  {
   "cell_type": "markdown",
   "metadata": {
    "tags": [
     "instruction"
    ]
   },
   "source": [
    "\n",
    "### Human Resources\n",
    "_what type of team and strength needed?_"
   ]
  },
  {
   "cell_type": "markdown",
   "metadata": {
    "tags": [
     "response"
    ]
   },
   "source": [
    "your response"
   ]
  },
  {
   "cell_type": "markdown",
   "metadata": {
    "tags": [
     "instruction"
    ]
   },
   "source": [
    "### Compute Resources\n",
    "_What type of compute resources needed to train and serve?_"
   ]
  },
  {
   "cell_type": "markdown",
   "metadata": {
    "tags": [
     "response"
    ]
   },
   "source": [
    "your response"
   ]
  }
 ],
 "metadata": {
  "language_info": {
   "name": "python"
  }
 },
 "nbformat": 4,
 "nbformat_minor": 2
}

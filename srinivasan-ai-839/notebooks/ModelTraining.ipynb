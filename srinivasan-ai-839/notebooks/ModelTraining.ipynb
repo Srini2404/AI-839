{
 "cells": [
  {
   "cell_type": "code",
   "execution_count": 1,
   "metadata": {},
   "outputs": [],
   "source": [
    "from sklearn.metrics import accuracy_score, r2_score\n",
    "from sklearn.model_selection import train_test_split"
   ]
  },
  {
   "cell_type": "code",
   "execution_count": 2,
   "metadata": {},
   "outputs": [
    {
     "data": {
      "text/html": [
       "<pre style=\"white-space:pre;overflow-x:auto;line-height:normal;font-family:Menlo,'DejaVu Sans Mono',consolas,'Courier New',monospace\"><span style=\"color: #7fbfbf; text-decoration-color: #7fbfbf\">[09/01/24 12:49:25] </span><span style=\"color: #000080; text-decoration-color: #000080\">INFO    </span> Using                                                                  <a href=\"file://c:\\Users\\Admin\\miniconda3\\envs\\recsys\\Lib\\site-packages\\kedro\\framework\\project\\__init__.py\" target=\"_blank\"><span style=\"color: #7f7f7f; text-decoration-color: #7f7f7f\">__init__.py</span></a><span style=\"color: #7f7f7f; text-decoration-color: #7f7f7f\">:</span><a href=\"file://c:\\Users\\Admin\\miniconda3\\envs\\recsys\\Lib\\site-packages\\kedro\\framework\\project\\__init__.py#249\" target=\"_blank\"><span style=\"color: #7f7f7f; text-decoration-color: #7f7f7f\">249</span></a>\n",
       "<span style=\"color: #7fbfbf; text-decoration-color: #7fbfbf\">                    </span>         <span style=\"color: #008000; text-decoration-color: #008000\">'c:\\Users\\Admin\\miniconda3\\envs\\recsys\\Lib\\site-packages\\kedro\\framewo</span> <span style=\"color: #7f7f7f; text-decoration-color: #7f7f7f\">               </span>\n",
       "<span style=\"color: #7fbfbf; text-decoration-color: #7fbfbf\">                    </span>         <span style=\"color: #008000; text-decoration-color: #008000\">rk\\project\\rich_logging.yml'</span> as logging configuration.                 <span style=\"color: #7f7f7f; text-decoration-color: #7f7f7f\">               </span>\n",
       "</pre>\n"
      ],
      "text/plain": [
       "\u001b[2;36m[09/01/24 12:49:25]\u001b[0m\u001b[2;36m \u001b[0m\u001b[34mINFO    \u001b[0m Using                                                                  \u001b]8;id=242098;file://c:\\Users\\Admin\\miniconda3\\envs\\recsys\\Lib\\site-packages\\kedro\\framework\\project\\__init__.py\u001b\\\u001b[2m__init__.py\u001b[0m\u001b]8;;\u001b\\\u001b[2m:\u001b[0m\u001b]8;id=98896;file://c:\\Users\\Admin\\miniconda3\\envs\\recsys\\Lib\\site-packages\\kedro\\framework\\project\\__init__.py#249\u001b\\\u001b[2m249\u001b[0m\u001b]8;;\u001b\\\n",
       "\u001b[2;36m                    \u001b[0m         \u001b[32m'c:\\Users\\Admin\\miniconda3\\envs\\recsys\\Lib\\site-packages\\kedro\\framewo\u001b[0m \u001b[2m               \u001b[0m\n",
       "\u001b[2;36m                    \u001b[0m         \u001b[32mrk\\project\\rich_logging.yml'\u001b[0m as logging configuration.                 \u001b[2m               \u001b[0m\n"
      ]
     },
     "metadata": {},
     "output_type": "display_data"
    },
    {
     "data": {
      "text/html": [
       "<pre style=\"white-space:pre;overflow-x:auto;line-height:normal;font-family:Menlo,'DejaVu Sans Mono',consolas,'Courier New',monospace\"><span style=\"color: #7fbfbf; text-decoration-color: #7fbfbf\">                    </span><span style=\"color: #000080; text-decoration-color: #000080\">INFO    </span> Registered line magic <span style=\"color: #008000; text-decoration-color: #008000\">'%reload_kedro'</span>                                   <a href=\"file://c:\\Users\\Admin\\miniconda3\\envs\\recsys\\Lib\\site-packages\\kedro\\ipython\\__init__.py\" target=\"_blank\"><span style=\"color: #7f7f7f; text-decoration-color: #7f7f7f\">__init__.py</span></a><span style=\"color: #7f7f7f; text-decoration-color: #7f7f7f\">:</span><a href=\"file://c:\\Users\\Admin\\miniconda3\\envs\\recsys\\Lib\\site-packages\\kedro\\ipython\\__init__.py#58\" target=\"_blank\"><span style=\"color: #7f7f7f; text-decoration-color: #7f7f7f\">58</span></a>\n",
       "</pre>\n"
      ],
      "text/plain": [
       "\u001b[2;36m                   \u001b[0m\u001b[2;36m \u001b[0m\u001b[34mINFO    \u001b[0m Registered line magic \u001b[32m'%reload_kedro'\u001b[0m                                   \u001b]8;id=143574;file://c:\\Users\\Admin\\miniconda3\\envs\\recsys\\Lib\\site-packages\\kedro\\ipython\\__init__.py\u001b\\\u001b[2m__init__.py\u001b[0m\u001b]8;;\u001b\\\u001b[2m:\u001b[0m\u001b]8;id=607517;file://c:\\Users\\Admin\\miniconda3\\envs\\recsys\\Lib\\site-packages\\kedro\\ipython\\__init__.py#58\u001b\\\u001b[2m58\u001b[0m\u001b]8;;\u001b\\\n"
      ]
     },
     "metadata": {},
     "output_type": "display_data"
    },
    {
     "data": {
      "text/html": [
       "<pre style=\"white-space:pre;overflow-x:auto;line-height:normal;font-family:Menlo,'DejaVu Sans Mono',consolas,'Courier New',monospace\"><span style=\"color: #7fbfbf; text-decoration-color: #7fbfbf\">                    </span><span style=\"color: #000080; text-decoration-color: #000080\">INFO    </span> Registered line magic <span style=\"color: #008000; text-decoration-color: #008000\">'%load_node'</span>                                      <a href=\"file://c:\\Users\\Admin\\miniconda3\\envs\\recsys\\Lib\\site-packages\\kedro\\ipython\\__init__.py\" target=\"_blank\"><span style=\"color: #7f7f7f; text-decoration-color: #7f7f7f\">__init__.py</span></a><span style=\"color: #7f7f7f; text-decoration-color: #7f7f7f\">:</span><a href=\"file://c:\\Users\\Admin\\miniconda3\\envs\\recsys\\Lib\\site-packages\\kedro\\ipython\\__init__.py#60\" target=\"_blank\"><span style=\"color: #7f7f7f; text-decoration-color: #7f7f7f\">60</span></a>\n",
       "</pre>\n"
      ],
      "text/plain": [
       "\u001b[2;36m                   \u001b[0m\u001b[2;36m \u001b[0m\u001b[34mINFO    \u001b[0m Registered line magic \u001b[32m'%load_node'\u001b[0m                                      \u001b]8;id=203531;file://c:\\Users\\Admin\\miniconda3\\envs\\recsys\\Lib\\site-packages\\kedro\\ipython\\__init__.py\u001b\\\u001b[2m__init__.py\u001b[0m\u001b]8;;\u001b\\\u001b[2m:\u001b[0m\u001b]8;id=517377;file://c:\\Users\\Admin\\miniconda3\\envs\\recsys\\Lib\\site-packages\\kedro\\ipython\\__init__.py#60\u001b\\\u001b[2m60\u001b[0m\u001b]8;;\u001b\\\n"
      ]
     },
     "metadata": {},
     "output_type": "display_data"
    },
    {
     "data": {
      "text/html": [
       "<pre style=\"white-space:pre;overflow-x:auto;line-height:normal;font-family:Menlo,'DejaVu Sans Mono',consolas,'Courier New',monospace\"><span style=\"color: #7fbfbf; text-decoration-color: #7fbfbf\">                    </span><span style=\"color: #000080; text-decoration-color: #000080\">INFO    </span> Resolved project path as:                                              <a href=\"file://c:\\Users\\Admin\\miniconda3\\envs\\recsys\\Lib\\site-packages\\kedro\\ipython\\__init__.py\" target=\"_blank\"><span style=\"color: #7f7f7f; text-decoration-color: #7f7f7f\">__init__.py</span></a><span style=\"color: #7f7f7f; text-decoration-color: #7f7f7f\">:</span><a href=\"file://c:\\Users\\Admin\\miniconda3\\envs\\recsys\\Lib\\site-packages\\kedro\\ipython\\__init__.py#175\" target=\"_blank\"><span style=\"color: #7f7f7f; text-decoration-color: #7f7f7f\">175</span></a>\n",
       "<span style=\"color: #7fbfbf; text-decoration-color: #7fbfbf\">                    </span>         c:\\Users\\Admin\\Desktop\\Semester_7\\MLOps\\AI-<span style=\"color: #008080; text-decoration-color: #008080; font-weight: bold\">839</span>\\srinivasan-ai-<span style=\"color: #008080; text-decoration-color: #008080; font-weight: bold\">839</span>.      <span style=\"color: #7f7f7f; text-decoration-color: #7f7f7f\">               </span>\n",
       "<span style=\"color: #7fbfbf; text-decoration-color: #7fbfbf\">                    </span>         To set a different path, run <span style=\"color: #008000; text-decoration-color: #008000\">'%reload_kedro &lt;project_root&gt;'</span>            <span style=\"color: #7f7f7f; text-decoration-color: #7f7f7f\">               </span>\n",
       "</pre>\n"
      ],
      "text/plain": [
       "\u001b[2;36m                   \u001b[0m\u001b[2;36m \u001b[0m\u001b[34mINFO    \u001b[0m Resolved project path as:                                              \u001b]8;id=294655;file://c:\\Users\\Admin\\miniconda3\\envs\\recsys\\Lib\\site-packages\\kedro\\ipython\\__init__.py\u001b\\\u001b[2m__init__.py\u001b[0m\u001b]8;;\u001b\\\u001b[2m:\u001b[0m\u001b]8;id=429323;file://c:\\Users\\Admin\\miniconda3\\envs\\recsys\\Lib\\site-packages\\kedro\\ipython\\__init__.py#175\u001b\\\u001b[2m175\u001b[0m\u001b]8;;\u001b\\\n",
       "\u001b[2;36m                    \u001b[0m         c:\\Users\\Admin\\Desktop\\Semester_7\\MLOps\\AI-\u001b[1;36m839\u001b[0m\\srinivasan-ai-\u001b[1;36m839\u001b[0m.      \u001b[2m               \u001b[0m\n",
       "\u001b[2;36m                    \u001b[0m         To set a different path, run \u001b[32m'%reload_kedro \u001b[0m\u001b[32m<\u001b[0m\u001b[32mproject_root\u001b[0m\u001b[32m>\u001b[0m\u001b[32m'\u001b[0m            \u001b[2m               \u001b[0m\n"
      ]
     },
     "metadata": {},
     "output_type": "display_data"
    },
    {
     "data": {
      "text/html": [
       "<pre style=\"white-space:pre;overflow-x:auto;line-height:normal;font-family:Menlo,'DejaVu Sans Mono',consolas,'Courier New',monospace\"><span style=\"color: #7fbfbf; text-decoration-color: #7fbfbf\">[09/01/24 12:49:25] </span><span style=\"color: #800000; text-decoration-color: #800000\">WARNING </span> c:\\Users\\Admin\\miniconda3\\envs\\recsys\\Lib\\site-packages\\kedro_viz\\__in <a href=\"file://c:\\Users\\Admin\\miniconda3\\envs\\recsys\\Lib\\warnings.py\" target=\"_blank\"><span style=\"color: #7f7f7f; text-decoration-color: #7f7f7f\">warnings.py</span></a><span style=\"color: #7f7f7f; text-decoration-color: #7f7f7f\">:</span><a href=\"file://c:\\Users\\Admin\\miniconda3\\envs\\recsys\\Lib\\warnings.py#112\" target=\"_blank\"><span style=\"color: #7f7f7f; text-decoration-color: #7f7f7f\">112</span></a>\n",
       "<span style=\"color: #7fbfbf; text-decoration-color: #7fbfbf\">                    </span>         it__.py:<span style=\"color: #008080; text-decoration-color: #008080; font-weight: bold\">13</span>: KedroVizPythonVersionWarning: Please be advised that Kedro <span style=\"color: #7f7f7f; text-decoration-color: #7f7f7f\">               </span>\n",
       "<span style=\"color: #7fbfbf; text-decoration-color: #7fbfbf\">                    </span>         Viz is not yet fully                                                   <span style=\"color: #7f7f7f; text-decoration-color: #7f7f7f\">               </span>\n",
       "<span style=\"color: #7fbfbf; text-decoration-color: #7fbfbf\">                    </span>                 compatible with the Python version you are currently using.    <span style=\"color: #7f7f7f; text-decoration-color: #7f7f7f\">               </span>\n",
       "<span style=\"color: #7fbfbf; text-decoration-color: #7fbfbf\">                    </span>           <span style=\"color: #800080; text-decoration-color: #800080; font-weight: bold\">warnings.warn</span><span style=\"font-weight: bold\">(</span>                                                       <span style=\"color: #7f7f7f; text-decoration-color: #7f7f7f\">               </span>\n",
       "<span style=\"color: #7fbfbf; text-decoration-color: #7fbfbf\">                    </span>                                                                                <span style=\"color: #7f7f7f; text-decoration-color: #7f7f7f\">               </span>\n",
       "</pre>\n"
      ],
      "text/plain": [
       "\u001b[2;36m[09/01/24 12:49:25]\u001b[0m\u001b[2;36m \u001b[0m\u001b[31mWARNING \u001b[0m c:\\Users\\Admin\\miniconda3\\envs\\recsys\\Lib\\site-packages\\kedro_viz\\__in \u001b]8;id=810252;file://c:\\Users\\Admin\\miniconda3\\envs\\recsys\\Lib\\warnings.py\u001b\\\u001b[2mwarnings.py\u001b[0m\u001b]8;;\u001b\\\u001b[2m:\u001b[0m\u001b]8;id=901612;file://c:\\Users\\Admin\\miniconda3\\envs\\recsys\\Lib\\warnings.py#112\u001b\\\u001b[2m112\u001b[0m\u001b]8;;\u001b\\\n",
       "\u001b[2;36m                    \u001b[0m         it__.py:\u001b[1;36m13\u001b[0m: KedroVizPythonVersionWarning: Please be advised that Kedro \u001b[2m               \u001b[0m\n",
       "\u001b[2;36m                    \u001b[0m         Viz is not yet fully                                                   \u001b[2m               \u001b[0m\n",
       "\u001b[2;36m                    \u001b[0m                 compatible with the Python version you are currently using.    \u001b[2m               \u001b[0m\n",
       "\u001b[2;36m                    \u001b[0m           \u001b[1;35mwarnings.warn\u001b[0m\u001b[1m(\u001b[0m                                                       \u001b[2m               \u001b[0m\n",
       "\u001b[2;36m                    \u001b[0m                                                                                \u001b[2m               \u001b[0m\n"
      ]
     },
     "metadata": {},
     "output_type": "display_data"
    },
    {
     "data": {
      "text/html": [
       "<pre style=\"white-space:pre;overflow-x:auto;line-height:normal;font-family:Menlo,'DejaVu Sans Mono',consolas,'Courier New',monospace\"><span style=\"color: #7fbfbf; text-decoration-color: #7fbfbf\">[09/01/24 12:49:26] </span><span style=\"color: #000080; text-decoration-color: #000080\">INFO    </span> Kedro is sending anonymous usage data with the sole purpose of improving <a href=\"file://c:\\Users\\Admin\\miniconda3\\envs\\recsys\\Lib\\site-packages\\kedro_telemetry\\plugin.py\" target=\"_blank\"><span style=\"color: #7f7f7f; text-decoration-color: #7f7f7f\">plugin.py</span></a><span style=\"color: #7f7f7f; text-decoration-color: #7f7f7f\">:</span><a href=\"file://c:\\Users\\Admin\\miniconda3\\envs\\recsys\\Lib\\site-packages\\kedro_telemetry\\plugin.py#233\" target=\"_blank\"><span style=\"color: #7f7f7f; text-decoration-color: #7f7f7f\">233</span></a>\n",
       "<span style=\"color: #7fbfbf; text-decoration-color: #7fbfbf\">                    </span>         the product. No personal data or IP addresses are stored on our side. If <span style=\"color: #7f7f7f; text-decoration-color: #7f7f7f\">             </span>\n",
       "<span style=\"color: #7fbfbf; text-decoration-color: #7fbfbf\">                    </span>         you want to opt out, set the `KEDRO_DISABLE_TELEMETRY` or `DO_NOT_TRACK` <span style=\"color: #7f7f7f; text-decoration-color: #7f7f7f\">             </span>\n",
       "<span style=\"color: #7fbfbf; text-decoration-color: #7fbfbf\">                    </span>         environment variables, or create a `.telemetry` file in the current      <span style=\"color: #7f7f7f; text-decoration-color: #7f7f7f\">             </span>\n",
       "<span style=\"color: #7fbfbf; text-decoration-color: #7fbfbf\">                    </span>         working directory with the contents `consent: false`. Read more at       <span style=\"color: #7f7f7f; text-decoration-color: #7f7f7f\">             </span>\n",
       "<span style=\"color: #7fbfbf; text-decoration-color: #7fbfbf\">                    </span>         <span style=\"color: #0000ff; text-decoration-color: #0000ff; text-decoration: underline\">https://docs.kedro.org/en/stable/configuration/telemetry.html</span>            <span style=\"color: #7f7f7f; text-decoration-color: #7f7f7f\">             </span>\n",
       "</pre>\n"
      ],
      "text/plain": [
       "\u001b[2;36m[09/01/24 12:49:26]\u001b[0m\u001b[2;36m \u001b[0m\u001b[34mINFO    \u001b[0m Kedro is sending anonymous usage data with the sole purpose of improving \u001b]8;id=40491;file://c:\\Users\\Admin\\miniconda3\\envs\\recsys\\Lib\\site-packages\\kedro_telemetry\\plugin.py\u001b\\\u001b[2mplugin.py\u001b[0m\u001b]8;;\u001b\\\u001b[2m:\u001b[0m\u001b]8;id=526170;file://c:\\Users\\Admin\\miniconda3\\envs\\recsys\\Lib\\site-packages\\kedro_telemetry\\plugin.py#233\u001b\\\u001b[2m233\u001b[0m\u001b]8;;\u001b\\\n",
       "\u001b[2;36m                    \u001b[0m         the product. No personal data or IP addresses are stored on our side. If \u001b[2m             \u001b[0m\n",
       "\u001b[2;36m                    \u001b[0m         you want to opt out, set the `KEDRO_DISABLE_TELEMETRY` or `DO_NOT_TRACK` \u001b[2m             \u001b[0m\n",
       "\u001b[2;36m                    \u001b[0m         environment variables, or create a `.telemetry` file in the current      \u001b[2m             \u001b[0m\n",
       "\u001b[2;36m                    \u001b[0m         working directory with the contents `consent: false`. Read more at       \u001b[2m             \u001b[0m\n",
       "\u001b[2;36m                    \u001b[0m         \u001b[4;94mhttps://docs.kedro.org/en/stable/configuration/telemetry.html\u001b[0m            \u001b[2m             \u001b[0m\n"
      ]
     },
     "metadata": {},
     "output_type": "display_data"
    },
    {
     "data": {
      "text/html": [
       "<pre style=\"white-space:pre;overflow-x:auto;line-height:normal;font-family:Menlo,'DejaVu Sans Mono',consolas,'Courier New',monospace\"><span style=\"color: #7fbfbf; text-decoration-color: #7fbfbf\">[09/01/24 12:49:27] </span><span style=\"color: #000080; text-decoration-color: #000080\">INFO    </span> Kedro project Srinivasan-ai-<span style=\"color: #008080; text-decoration-color: #008080; font-weight: bold\">839</span>                                        <a href=\"file://c:\\Users\\Admin\\miniconda3\\envs\\recsys\\Lib\\site-packages\\kedro\\ipython\\__init__.py\" target=\"_blank\"><span style=\"color: #7f7f7f; text-decoration-color: #7f7f7f\">__init__.py</span></a><span style=\"color: #7f7f7f; text-decoration-color: #7f7f7f\">:</span><a href=\"file://c:\\Users\\Admin\\miniconda3\\envs\\recsys\\Lib\\site-packages\\kedro\\ipython\\__init__.py#141\" target=\"_blank\"><span style=\"color: #7f7f7f; text-decoration-color: #7f7f7f\">141</span></a>\n",
       "</pre>\n"
      ],
      "text/plain": [
       "\u001b[2;36m[09/01/24 12:49:27]\u001b[0m\u001b[2;36m \u001b[0m\u001b[34mINFO    \u001b[0m Kedro project Srinivasan-ai-\u001b[1;36m839\u001b[0m                                        \u001b]8;id=347888;file://c:\\Users\\Admin\\miniconda3\\envs\\recsys\\Lib\\site-packages\\kedro\\ipython\\__init__.py\u001b\\\u001b[2m__init__.py\u001b[0m\u001b]8;;\u001b\\\u001b[2m:\u001b[0m\u001b]8;id=955377;file://c:\\Users\\Admin\\miniconda3\\envs\\recsys\\Lib\\site-packages\\kedro\\ipython\\__init__.py#141\u001b\\\u001b[2m141\u001b[0m\u001b]8;;\u001b\\\n"
      ]
     },
     "metadata": {},
     "output_type": "display_data"
    },
    {
     "data": {
      "text/html": [
       "<pre style=\"white-space:pre;overflow-x:auto;line-height:normal;font-family:Menlo,'DejaVu Sans Mono',consolas,'Courier New',monospace\"><span style=\"color: #7fbfbf; text-decoration-color: #7fbfbf\">                    </span><span style=\"color: #000080; text-decoration-color: #000080\">INFO    </span> Defined global variable <span style=\"color: #008000; text-decoration-color: #008000\">'context'</span>, <span style=\"color: #008000; text-decoration-color: #008000\">'session'</span>, <span style=\"color: #008000; text-decoration-color: #008000\">'catalog'</span> and            <a href=\"file://c:\\Users\\Admin\\miniconda3\\envs\\recsys\\Lib\\site-packages\\kedro\\ipython\\__init__.py\" target=\"_blank\"><span style=\"color: #7f7f7f; text-decoration-color: #7f7f7f\">__init__.py</span></a><span style=\"color: #7f7f7f; text-decoration-color: #7f7f7f\">:</span><a href=\"file://c:\\Users\\Admin\\miniconda3\\envs\\recsys\\Lib\\site-packages\\kedro\\ipython\\__init__.py#142\" target=\"_blank\"><span style=\"color: #7f7f7f; text-decoration-color: #7f7f7f\">142</span></a>\n",
       "<span style=\"color: #7fbfbf; text-decoration-color: #7fbfbf\">                    </span>         <span style=\"color: #008000; text-decoration-color: #008000\">'pipelines'</span>                                                            <span style=\"color: #7f7f7f; text-decoration-color: #7f7f7f\">               </span>\n",
       "</pre>\n"
      ],
      "text/plain": [
       "\u001b[2;36m                   \u001b[0m\u001b[2;36m \u001b[0m\u001b[34mINFO    \u001b[0m Defined global variable \u001b[32m'context'\u001b[0m, \u001b[32m'session'\u001b[0m, \u001b[32m'catalog'\u001b[0m and            \u001b]8;id=998205;file://c:\\Users\\Admin\\miniconda3\\envs\\recsys\\Lib\\site-packages\\kedro\\ipython\\__init__.py\u001b\\\u001b[2m__init__.py\u001b[0m\u001b]8;;\u001b\\\u001b[2m:\u001b[0m\u001b]8;id=982845;file://c:\\Users\\Admin\\miniconda3\\envs\\recsys\\Lib\\site-packages\\kedro\\ipython\\__init__.py#142\u001b\\\u001b[2m142\u001b[0m\u001b]8;;\u001b\\\n",
       "\u001b[2;36m                    \u001b[0m         \u001b[32m'pipelines'\u001b[0m                                                            \u001b[2m               \u001b[0m\n"
      ]
     },
     "metadata": {},
     "output_type": "display_data"
    },
    {
     "data": {
      "text/html": [
       "<pre style=\"white-space:pre;overflow-x:auto;line-height:normal;font-family:Menlo,'DejaVu Sans Mono',consolas,'Courier New',monospace\"><span style=\"color: #7fbfbf; text-decoration-color: #7fbfbf\">[09/01/24 12:49:28] </span><span style=\"color: #000080; text-decoration-color: #000080\">INFO    </span> Registered line magic <span style=\"color: #008000; text-decoration-color: #008000\">'run_viz'</span>                                        <a href=\"file://c:\\Users\\Admin\\miniconda3\\envs\\recsys\\Lib\\site-packages\\kedro\\ipython\\__init__.py\" target=\"_blank\"><span style=\"color: #7f7f7f; text-decoration-color: #7f7f7f\">__init__.py</span></a><span style=\"color: #7f7f7f; text-decoration-color: #7f7f7f\">:</span><a href=\"file://c:\\Users\\Admin\\miniconda3\\envs\\recsys\\Lib\\site-packages\\kedro\\ipython\\__init__.py#148\" target=\"_blank\"><span style=\"color: #7f7f7f; text-decoration-color: #7f7f7f\">148</span></a>\n",
       "</pre>\n"
      ],
      "text/plain": [
       "\u001b[2;36m[09/01/24 12:49:28]\u001b[0m\u001b[2;36m \u001b[0m\u001b[34mINFO    \u001b[0m Registered line magic \u001b[32m'run_viz'\u001b[0m                                        \u001b]8;id=58818;file://c:\\Users\\Admin\\miniconda3\\envs\\recsys\\Lib\\site-packages\\kedro\\ipython\\__init__.py\u001b\\\u001b[2m__init__.py\u001b[0m\u001b]8;;\u001b\\\u001b[2m:\u001b[0m\u001b]8;id=766020;file://c:\\Users\\Admin\\miniconda3\\envs\\recsys\\Lib\\site-packages\\kedro\\ipython\\__init__.py#148\u001b\\\u001b[2m148\u001b[0m\u001b]8;;\u001b\\\n"
      ]
     },
     "metadata": {},
     "output_type": "display_data"
    }
   ],
   "source": [
    "%load_ext kedro.ipython"
   ]
  },
  {
   "cell_type": "code",
   "execution_count": 3,
   "metadata": {},
   "outputs": [
    {
     "data": {
      "text/html": [
       "<pre style=\"white-space:pre;overflow-x:auto;line-height:normal;font-family:Menlo,'DejaVu Sans Mono',consolas,'Courier New',monospace\"></pre>\n"
      ],
      "text/plain": []
     },
     "metadata": {},
     "output_type": "display_data"
    },
    {
     "data": {
      "text/plain": [
       "\n",
       "\u001b[1m{\u001b[0m\u001b[32m'dataset_id_214'\u001b[0m: \u001b[32m\"kedro_datasets.pandas.csv_dataset.CSVDataset\u001b[0m\u001b[32m(\u001b[0m\u001b[32mfilepath\u001b[0m\u001b[32m=\u001b[0m\u001b[32mPurePosixPath\u001b[0m\u001b[32m(\u001b[0m\u001b[32m'C:/Users/Admin/Desktop/Semester_7/MLOps/AI-839/srinivasan-ai-839/data/01_raw/dataset_id_214.csv'\u001b[0m\u001b[32m)\u001b[0m\u001b[32m, \"\u001b[0m\n",
       "                   \u001b[32m\"\u001b[0m\u001b[32mprotocol\u001b[0m\u001b[32m='file', \u001b[0m\u001b[32mload_args\u001b[0m\u001b[32m=\u001b[0m\u001b[32m{\u001b[0m\u001b[32m}\u001b[0m\u001b[32m, \u001b[0m\u001b[32msave_args\u001b[0m\u001b[32m=\u001b[0m\u001b[32m{\u001b[0m\u001b[32m'index': False\u001b[0m\u001b[32m}\u001b[0m\u001b[32m)\u001b[0m\u001b[32m\"\u001b[0m,\n",
       " \u001b[32m'preprocessed_data'\u001b[0m: \u001b[32m\"kedro_datasets.pandas.csv_dataset.CSVDataset\u001b[0m\u001b[32m(\u001b[0m\u001b[32mfilepath\u001b[0m\u001b[32m=\u001b[0m\u001b[32mPurePosixPath\u001b[0m\u001b[32m(\u001b[0m\u001b[32m'C:/Users/Admin/Desktop/Semester_7/MLOps/AI-839/srinivasan-ai-839/data/02_modelinput/preprocessed_data.csv'\u001b[0m\u001b[32m)\u001b[0m\u001b[32m, \"\u001b[0m\n",
       "                      \u001b[32m\"\u001b[0m\u001b[32mprotocol\u001b[0m\u001b[32m='file', \u001b[0m\u001b[32mload_args\u001b[0m\u001b[32m=\u001b[0m\u001b[32m{\u001b[0m\u001b[32m}\u001b[0m\u001b[32m, \u001b[0m\u001b[32msave_args\u001b[0m\u001b[32m=\u001b[0m\u001b[32m{\u001b[0m\u001b[32m'index': \"\u001b[0m\n",
       "                      \u001b[32m'True\u001b[0m\u001b[32m}\u001b[0m\u001b[32m)\u001b[0m\u001b[32m'\u001b[0m,\n",
       " \u001b[32m'parameters'\u001b[0m: \u001b[32m\"kedro.io.memory_dataset.MemoryDataset\u001b[0m\u001b[32m(\u001b[0m\u001b[32mdata\u001b[0m\u001b[32m='\u001b[0m\u001b[32m<\u001b[0m\u001b[32mdict\u001b[0m\u001b[32m>\u001b[0m\u001b[32m'\u001b[0m\u001b[32m)\u001b[0m\u001b[32m\"\u001b[0m\u001b[1m}\u001b[0m"
      ]
     },
     "execution_count": 3,
     "metadata": {},
     "output_type": "execute_result"
    }
   ],
   "source": [
    "catalog"
   ]
  },
  {
   "cell_type": "code",
   "execution_count": 4,
   "metadata": {},
   "outputs": [
    {
     "data": {
      "text/html": [
       "<pre style=\"white-space:pre;overflow-x:auto;line-height:normal;font-family:Menlo,'DejaVu Sans Mono',consolas,'Courier New',monospace\"><span style=\"color: #7fbfbf; text-decoration-color: #7fbfbf\">[09/01/24 12:49:34] </span><span style=\"color: #000080; text-decoration-color: #000080\">INFO    </span> Loading data from <span style=\"color: #ff8700; text-decoration-color: #ff8700\">preprocessed_data</span> <span style=\"font-weight: bold\">(</span>CSVDataset<span style=\"font-weight: bold\">)</span><span style=\"color: #808000; text-decoration-color: #808000\">...</span>                <a href=\"file://c:\\Users\\Admin\\miniconda3\\envs\\recsys\\Lib\\site-packages\\kedro\\io\\data_catalog.py\" target=\"_blank\"><span style=\"color: #7f7f7f; text-decoration-color: #7f7f7f\">data_catalog.py</span></a><span style=\"color: #7f7f7f; text-decoration-color: #7f7f7f\">:</span><a href=\"file://c:\\Users\\Admin\\miniconda3\\envs\\recsys\\Lib\\site-packages\\kedro\\io\\data_catalog.py#539\" target=\"_blank\"><span style=\"color: #7f7f7f; text-decoration-color: #7f7f7f\">539</span></a>\n",
       "</pre>\n"
      ],
      "text/plain": [
       "\u001b[2;36m[09/01/24 12:49:34]\u001b[0m\u001b[2;36m \u001b[0m\u001b[34mINFO    \u001b[0m Loading data from \u001b[38;5;208mpreprocessed_data\u001b[0m \u001b[1m(\u001b[0mCSVDataset\u001b[1m)\u001b[0m\u001b[33m...\u001b[0m                \u001b]8;id=755559;file://c:\\Users\\Admin\\miniconda3\\envs\\recsys\\Lib\\site-packages\\kedro\\io\\data_catalog.py\u001b\\\u001b[2mdata_catalog.py\u001b[0m\u001b]8;;\u001b\\\u001b[2m:\u001b[0m\u001b]8;id=770108;file://c:\\Users\\Admin\\miniconda3\\envs\\recsys\\Lib\\site-packages\\kedro\\io\\data_catalog.py#539\u001b\\\u001b[2m539\u001b[0m\u001b]8;;\u001b\\\n"
      ]
     },
     "metadata": {},
     "output_type": "display_data"
    }
   ],
   "source": [
    "dataset = catalog.load(\"preprocessed_data\")"
   ]
  },
  {
   "cell_type": "code",
   "execution_count": 5,
   "metadata": {},
   "outputs": [
    {
     "data": {
      "text/html": [
       "<pre style=\"white-space:pre;overflow-x:auto;line-height:normal;font-family:Menlo,'DejaVu Sans Mono',consolas,'Courier New',monospace\"></pre>\n"
      ],
      "text/plain": []
     },
     "metadata": {},
     "output_type": "display_data"
    },
    {
     "data": {
      "text/html": [
       "<div>\n",
       "<style scoped>\n",
       "    .dataframe tbody tr th:only-of-type {\n",
       "        vertical-align: middle;\n",
       "    }\n",
       "\n",
       "    .dataframe tbody tr th {\n",
       "        vertical-align: top;\n",
       "    }\n",
       "\n",
       "    .dataframe thead th {\n",
       "        text-align: right;\n",
       "    }\n",
       "</style>\n",
       "<table border=\"1\" class=\"dataframe\">\n",
       "  <thead>\n",
       "    <tr style=\"text-align: right;\">\n",
       "      <th></th>\n",
       "      <th>Unnamed: 0</th>\n",
       "      <th>duration</th>\n",
       "      <th>credit_amount</th>\n",
       "      <th>installment_commitment</th>\n",
       "      <th>residence_since</th>\n",
       "      <th>age</th>\n",
       "      <th>existing_credits</th>\n",
       "      <th>num_dependents</th>\n",
       "      <th>X_1</th>\n",
       "      <th>X_2</th>\n",
       "      <th>...</th>\n",
       "      <th>job_high qualif/self emp/mgmt</th>\n",
       "      <th>job_skilled</th>\n",
       "      <th>job_unemp/unskilled non res</th>\n",
       "      <th>job_unskilled resident</th>\n",
       "      <th>own_telephone_none</th>\n",
       "      <th>own_telephone_yes</th>\n",
       "      <th>foreign_worker_no</th>\n",
       "      <th>foreign_worker_yes</th>\n",
       "      <th>health_status_bad</th>\n",
       "      <th>health_status_good</th>\n",
       "    </tr>\n",
       "  </thead>\n",
       "  <tbody>\n",
       "    <tr>\n",
       "      <th>0</th>\n",
       "      <td>0</td>\n",
       "      <td>15</td>\n",
       "      <td>2186.0</td>\n",
       "      <td>1</td>\n",
       "      <td>4</td>\n",
       "      <td>33</td>\n",
       "      <td>1</td>\n",
       "      <td>1</td>\n",
       "      <td>4.824403</td>\n",
       "      <td>706.785635</td>\n",
       "      <td>...</td>\n",
       "      <td>False</td>\n",
       "      <td>False</td>\n",
       "      <td>False</td>\n",
       "      <td>True</td>\n",
       "      <td>True</td>\n",
       "      <td>False</td>\n",
       "      <td>False</td>\n",
       "      <td>True</td>\n",
       "      <td>False</td>\n",
       "      <td>True</td>\n",
       "    </tr>\n",
       "    <tr>\n",
       "      <th>1</th>\n",
       "      <td>1</td>\n",
       "      <td>36</td>\n",
       "      <td>7855.0</td>\n",
       "      <td>4</td>\n",
       "      <td>2</td>\n",
       "      <td>25</td>\n",
       "      <td>2</td>\n",
       "      <td>1</td>\n",
       "      <td>26.076695</td>\n",
       "      <td>294.937039</td>\n",
       "      <td>...</td>\n",
       "      <td>False</td>\n",
       "      <td>True</td>\n",
       "      <td>False</td>\n",
       "      <td>False</td>\n",
       "      <td>False</td>\n",
       "      <td>True</td>\n",
       "      <td>False</td>\n",
       "      <td>True</td>\n",
       "      <td>True</td>\n",
       "      <td>False</td>\n",
       "    </tr>\n",
       "    <tr>\n",
       "      <th>2</th>\n",
       "      <td>2</td>\n",
       "      <td>24</td>\n",
       "      <td>5103.0</td>\n",
       "      <td>3</td>\n",
       "      <td>3</td>\n",
       "      <td>47</td>\n",
       "      <td>3</td>\n",
       "      <td>1</td>\n",
       "      <td>51.868190</td>\n",
       "      <td>1511.681913</td>\n",
       "      <td>...</td>\n",
       "      <td>False</td>\n",
       "      <td>True</td>\n",
       "      <td>False</td>\n",
       "      <td>False</td>\n",
       "      <td>False</td>\n",
       "      <td>True</td>\n",
       "      <td>False</td>\n",
       "      <td>True</td>\n",
       "      <td>False</td>\n",
       "      <td>True</td>\n",
       "    </tr>\n",
       "    <tr>\n",
       "      <th>3</th>\n",
       "      <td>3</td>\n",
       "      <td>18</td>\n",
       "      <td>2169.0</td>\n",
       "      <td>4</td>\n",
       "      <td>2</td>\n",
       "      <td>28</td>\n",
       "      <td>1</td>\n",
       "      <td>1</td>\n",
       "      <td>70.107094</td>\n",
       "      <td>178.935446</td>\n",
       "      <td>...</td>\n",
       "      <td>False</td>\n",
       "      <td>True</td>\n",
       "      <td>False</td>\n",
       "      <td>False</td>\n",
       "      <td>False</td>\n",
       "      <td>True</td>\n",
       "      <td>False</td>\n",
       "      <td>True</td>\n",
       "      <td>True</td>\n",
       "      <td>False</td>\n",
       "    </tr>\n",
       "    <tr>\n",
       "      <th>4</th>\n",
       "      <td>4</td>\n",
       "      <td>30</td>\n",
       "      <td>6350.0</td>\n",
       "      <td>4</td>\n",
       "      <td>4</td>\n",
       "      <td>31</td>\n",
       "      <td>1</td>\n",
       "      <td>1</td>\n",
       "      <td>73.460211</td>\n",
       "      <td>1213.202284</td>\n",
       "      <td>...</td>\n",
       "      <td>False</td>\n",
       "      <td>True</td>\n",
       "      <td>False</td>\n",
       "      <td>False</td>\n",
       "      <td>True</td>\n",
       "      <td>False</td>\n",
       "      <td>False</td>\n",
       "      <td>True</td>\n",
       "      <td>True</td>\n",
       "      <td>False</td>\n",
       "    </tr>\n",
       "  </tbody>\n",
       "</table>\n",
       "<p>5 rows × 78 columns</p>\n",
       "</div>"
      ],
      "text/plain": [
       "\n",
       "   Unnamed: \u001b[1;36m0\u001b[0m  duration  credit_amount  installment_commitment  \\\n",
       "\u001b[1;36m0\u001b[0m           \u001b[1;36m0\u001b[0m        \u001b[1;36m15\u001b[0m         \u001b[1;36m2186.0\u001b[0m                       \u001b[1;36m1\u001b[0m   \n",
       "\u001b[1;36m1\u001b[0m           \u001b[1;36m1\u001b[0m        \u001b[1;36m36\u001b[0m         \u001b[1;36m7855.0\u001b[0m                       \u001b[1;36m4\u001b[0m   \n",
       "\u001b[1;36m2\u001b[0m           \u001b[1;36m2\u001b[0m        \u001b[1;36m24\u001b[0m         \u001b[1;36m5103.0\u001b[0m                       \u001b[1;36m3\u001b[0m   \n",
       "\u001b[1;36m3\u001b[0m           \u001b[1;36m3\u001b[0m        \u001b[1;36m18\u001b[0m         \u001b[1;36m2169.0\u001b[0m                       \u001b[1;36m4\u001b[0m   \n",
       "\u001b[1;36m4\u001b[0m           \u001b[1;36m4\u001b[0m        \u001b[1;36m30\u001b[0m         \u001b[1;36m6350.0\u001b[0m                       \u001b[1;36m4\u001b[0m   \n",
       "\n",
       "   residence_since  age  existing_credits  num_dependents        X_1  \\\n",
       "\u001b[1;36m0\u001b[0m                \u001b[1;36m4\u001b[0m   \u001b[1;36m33\u001b[0m                 \u001b[1;36m1\u001b[0m               \u001b[1;36m1\u001b[0m   \u001b[1;36m4.824403\u001b[0m   \n",
       "\u001b[1;36m1\u001b[0m                \u001b[1;36m2\u001b[0m   \u001b[1;36m25\u001b[0m                 \u001b[1;36m2\u001b[0m               \u001b[1;36m1\u001b[0m  \u001b[1;36m26.076695\u001b[0m   \n",
       "\u001b[1;36m2\u001b[0m                \u001b[1;36m3\u001b[0m   \u001b[1;36m47\u001b[0m                 \u001b[1;36m3\u001b[0m               \u001b[1;36m1\u001b[0m  \u001b[1;36m51.868190\u001b[0m   \n",
       "\u001b[1;36m3\u001b[0m                \u001b[1;36m2\u001b[0m   \u001b[1;36m28\u001b[0m                 \u001b[1;36m1\u001b[0m               \u001b[1;36m1\u001b[0m  \u001b[1;36m70.107094\u001b[0m   \n",
       "\u001b[1;36m4\u001b[0m                \u001b[1;36m4\u001b[0m   \u001b[1;36m31\u001b[0m                 \u001b[1;36m1\u001b[0m               \u001b[1;36m1\u001b[0m  \u001b[1;36m73.460211\u001b[0m   \n",
       "\n",
       "           X_2  \u001b[33m...\u001b[0m  job_high qualif/self emp/mgmt  job_skilled  \\\n",
       "\u001b[1;36m0\u001b[0m   \u001b[1;36m706.785635\u001b[0m  \u001b[33m...\u001b[0m                          \u001b[3;91mFalse\u001b[0m        \u001b[3;91mFalse\u001b[0m   \n",
       "\u001b[1;36m1\u001b[0m   \u001b[1;36m294.937039\u001b[0m  \u001b[33m...\u001b[0m                          \u001b[3;91mFalse\u001b[0m         \u001b[3;92mTrue\u001b[0m   \n",
       "\u001b[1;36m2\u001b[0m  \u001b[1;36m1511.681913\u001b[0m  \u001b[33m...\u001b[0m                          \u001b[3;91mFalse\u001b[0m         \u001b[3;92mTrue\u001b[0m   \n",
       "\u001b[1;36m3\u001b[0m   \u001b[1;36m178.935446\u001b[0m  \u001b[33m...\u001b[0m                          \u001b[3;91mFalse\u001b[0m         \u001b[3;92mTrue\u001b[0m   \n",
       "\u001b[1;36m4\u001b[0m  \u001b[1;36m1213.202284\u001b[0m  \u001b[33m...\u001b[0m                          \u001b[3;91mFalse\u001b[0m         \u001b[3;92mTrue\u001b[0m   \n",
       "\n",
       "   job_unemp/unskilled non res  job_unskilled resident  own_telephone_none  \\\n",
       "\u001b[1;36m0\u001b[0m                        \u001b[3;91mFalse\u001b[0m                    \u001b[3;92mTrue\u001b[0m                \u001b[3;92mTrue\u001b[0m   \n",
       "\u001b[1;36m1\u001b[0m                        \u001b[3;91mFalse\u001b[0m                   \u001b[3;91mFalse\u001b[0m               \u001b[3;91mFalse\u001b[0m   \n",
       "\u001b[1;36m2\u001b[0m                        \u001b[3;91mFalse\u001b[0m                   \u001b[3;91mFalse\u001b[0m               \u001b[3;91mFalse\u001b[0m   \n",
       "\u001b[1;36m3\u001b[0m                        \u001b[3;91mFalse\u001b[0m                   \u001b[3;91mFalse\u001b[0m               \u001b[3;91mFalse\u001b[0m   \n",
       "\u001b[1;36m4\u001b[0m                        \u001b[3;91mFalse\u001b[0m                   \u001b[3;91mFalse\u001b[0m                \u001b[3;92mTrue\u001b[0m   \n",
       "\n",
       "   own_telephone_yes  foreign_worker_no  foreign_worker_yes  \\\n",
       "\u001b[1;36m0\u001b[0m              \u001b[3;91mFalse\u001b[0m              \u001b[3;91mFalse\u001b[0m                \u001b[3;92mTrue\u001b[0m   \n",
       "\u001b[1;36m1\u001b[0m               \u001b[3;92mTrue\u001b[0m              \u001b[3;91mFalse\u001b[0m                \u001b[3;92mTrue\u001b[0m   \n",
       "\u001b[1;36m2\u001b[0m               \u001b[3;92mTrue\u001b[0m              \u001b[3;91mFalse\u001b[0m                \u001b[3;92mTrue\u001b[0m   \n",
       "\u001b[1;36m3\u001b[0m               \u001b[3;92mTrue\u001b[0m              \u001b[3;91mFalse\u001b[0m                \u001b[3;92mTrue\u001b[0m   \n",
       "\u001b[1;36m4\u001b[0m              \u001b[3;91mFalse\u001b[0m              \u001b[3;91mFalse\u001b[0m                \u001b[3;92mTrue\u001b[0m   \n",
       "\n",
       "   health_status_bad  health_status_good  \n",
       "\u001b[1;36m0\u001b[0m              \u001b[3;91mFalse\u001b[0m                \u001b[3;92mTrue\u001b[0m  \n",
       "\u001b[1;36m1\u001b[0m               \u001b[3;92mTrue\u001b[0m               \u001b[3;91mFalse\u001b[0m  \n",
       "\u001b[1;36m2\u001b[0m              \u001b[3;91mFalse\u001b[0m                \u001b[3;92mTrue\u001b[0m  \n",
       "\u001b[1;36m3\u001b[0m               \u001b[3;92mTrue\u001b[0m               \u001b[3;91mFalse\u001b[0m  \n",
       "\u001b[1;36m4\u001b[0m               \u001b[3;92mTrue\u001b[0m               \u001b[3;91mFalse\u001b[0m  \n",
       "\n",
       "\u001b[1m[\u001b[0m\u001b[1;36m5\u001b[0m rows x \u001b[1;36m78\u001b[0m columns\u001b[1m]\u001b[0m"
      ]
     },
     "execution_count": 5,
     "metadata": {},
     "output_type": "execute_result"
    }
   ],
   "source": [
    "dataset.head()"
   ]
  },
  {
   "cell_type": "code",
   "execution_count": 6,
   "metadata": {},
   "outputs": [
    {
     "data": {
      "text/html": [
       "<pre style=\"white-space:pre;overflow-x:auto;line-height:normal;font-family:Menlo,'DejaVu Sans Mono',consolas,'Courier New',monospace\"></pre>\n"
      ],
      "text/plain": []
     },
     "metadata": {},
     "output_type": "display_data"
    },
    {
     "data": {
      "text/plain": [
       "\n",
       "\u001b[1;35mIndex\u001b[0m\u001b[1m(\u001b[0m\u001b[1m[\u001b[0m\u001b[32m'Unnamed: 0'\u001b[0m, \u001b[32m'duration'\u001b[0m, \u001b[32m'credit_amount'\u001b[0m, \u001b[32m'installment_commitment'\u001b[0m,\n",
       "       \u001b[32m'residence_since'\u001b[0m, \u001b[32m'age'\u001b[0m, \u001b[32m'existing_credits'\u001b[0m, \u001b[32m'num_dependents'\u001b[0m, \u001b[32m'X_1'\u001b[0m,\n",
       "       \u001b[32m'X_2'\u001b[0m, \u001b[32m'X_3'\u001b[0m, \u001b[32m'X_4'\u001b[0m, \u001b[32m'X_5'\u001b[0m, \u001b[32m'X_6'\u001b[0m, \u001b[32m'X_7'\u001b[0m, \u001b[32m'X_8'\u001b[0m, \u001b[32m'X_9'\u001b[0m, \u001b[32m'X_10'\u001b[0m, \u001b[32m'X_11'\u001b[0m,\n",
       "       \u001b[32m'X_12'\u001b[0m, \u001b[32m'X_13'\u001b[0m, \u001b[32m'y'\u001b[0m, \u001b[32m'checking_status_0\u001b[0m\u001b[32m<\u001b[0m\u001b[32m=X<200'\u001b[0m\u001b[39m, \u001b[0m\u001b[32m'checking_status_<0'\u001b[0m\u001b[39m,\u001b[0m\n",
       "\u001b[39m       \u001b[0m\u001b[32m'checking_status_>=200'\u001b[0m\u001b[39m, \u001b[0m\u001b[32m'checking_status_no checking'\u001b[0m\u001b[39m,\u001b[0m\n",
       "\u001b[39m       \u001b[0m\u001b[32m'credit_history_all paid'\u001b[0m\u001b[39m,\u001b[0m\n",
       "\u001b[39m       \u001b[0m\u001b[32m'credit_history_critical/other existing credit'\u001b[0m\u001b[39m,\u001b[0m\n",
       "\u001b[39m       \u001b[0m\u001b[32m'credit_history_delayed previously'\u001b[0m\u001b[39m, \u001b[0m\u001b[32m'credit_history_existing paid'\u001b[0m\u001b[39m,\u001b[0m\n",
       "\u001b[39m       \u001b[0m\u001b[32m'credit_history_no credits/all paid'\u001b[0m\u001b[39m, \u001b[0m\u001b[32m'purpose_business'\u001b[0m\u001b[39m,\u001b[0m\n",
       "\u001b[39m       \u001b[0m\u001b[32m'purpose_domestic appliance'\u001b[0m\u001b[39m, \u001b[0m\u001b[32m'purpose_education'\u001b[0m\u001b[39m,\u001b[0m\n",
       "\u001b[39m       \u001b[0m\u001b[32m'purpose_furniture/equipment'\u001b[0m\u001b[39m, \u001b[0m\u001b[32m'purpose_new car'\u001b[0m\u001b[39m, \u001b[0m\u001b[32m'purpose_other'\u001b[0m\u001b[39m,\u001b[0m\n",
       "\u001b[39m       \u001b[0m\u001b[32m'purpose_radio/tv'\u001b[0m\u001b[39m, \u001b[0m\u001b[32m'purpose_repairs'\u001b[0m\u001b[39m, \u001b[0m\u001b[32m'purpose_retraining'\u001b[0m\u001b[39m,\u001b[0m\n",
       "\u001b[39m       \u001b[0m\u001b[32m'purpose_used car'\u001b[0m\u001b[39m, \u001b[0m\u001b[32m'savings_status_100<=X<500'\u001b[0m\u001b[39m,\u001b[0m\n",
       "\u001b[39m       \u001b[0m\u001b[32m'savings_status_500<=X<1000'\u001b[0m\u001b[39m, \u001b[0m\u001b[32m'savings_status_<100'\u001b[0m\u001b[39m,\u001b[0m\n",
       "\u001b[39m       \u001b[0m\u001b[32m'savings_status_>=1000'\u001b[0m\u001b[39m, \u001b[0m\u001b[32m'savings_status_no known savings'\u001b[0m\u001b[39m,\u001b[0m\n",
       "\u001b[39m       \u001b[0m\u001b[32m'employment_1<=X<4'\u001b[0m\u001b[39m, \u001b[0m\u001b[32m'employment_4<=X<7'\u001b[0m\u001b[39m, \u001b[0m\u001b[32m'employment_<1'\u001b[0m\u001b[39m,\u001b[0m\n",
       "\u001b[39m       \u001b[0m\u001b[32m'employment_\u001b[0m\u001b[32m>\u001b[0m\u001b[32m=7'\u001b[0m, \u001b[32m'employment_unemployed'\u001b[0m,\n",
       "       \u001b[32m'personal_status_female div/dep/mar'\u001b[0m, \u001b[32m'personal_status_male div/sep'\u001b[0m,\n",
       "       \u001b[32m'personal_status_male mar/wid'\u001b[0m, \u001b[32m'personal_status_male single'\u001b[0m,\n",
       "       \u001b[32m'other_parties_co applicant'\u001b[0m, \u001b[32m'other_parties_guarantor'\u001b[0m,\n",
       "       \u001b[32m'other_parties_none'\u001b[0m, \u001b[32m'property_magnitude_car'\u001b[0m,\n",
       "       \u001b[32m'property_magnitude_life insurance'\u001b[0m,\n",
       "       \u001b[32m'property_magnitude_no known property'\u001b[0m,\n",
       "       \u001b[32m'property_magnitude_real estate'\u001b[0m, \u001b[32m'other_payment_plans_bank'\u001b[0m,\n",
       "       \u001b[32m'other_payment_plans_none'\u001b[0m, \u001b[32m'other_payment_plans_stores'\u001b[0m,\n",
       "       \u001b[32m'housing_for free'\u001b[0m, \u001b[32m'housing_own'\u001b[0m, \u001b[32m'housing_rent'\u001b[0m,\n",
       "       \u001b[32m'job_high qualif/self emp/mgmt'\u001b[0m, \u001b[32m'job_skilled'\u001b[0m,\n",
       "       \u001b[32m'job_unemp/unskilled non res'\u001b[0m, \u001b[32m'job_unskilled resident'\u001b[0m,\n",
       "       \u001b[32m'own_telephone_none'\u001b[0m, \u001b[32m'own_telephone_yes'\u001b[0m, \u001b[32m'foreign_worker_no'\u001b[0m,\n",
       "       \u001b[32m'foreign_worker_yes'\u001b[0m, \u001b[32m'health_status_bad'\u001b[0m, \u001b[32m'health_status_good'\u001b[0m\u001b[1m]\u001b[0m,\n",
       "      \u001b[33mdtype\u001b[0m=\u001b[32m'object'\u001b[0m\u001b[1m)\u001b[0m"
      ]
     },
     "execution_count": 6,
     "metadata": {},
     "output_type": "execute_result"
    }
   ],
   "source": [
    "dataset.columns"
   ]
  },
  {
   "cell_type": "code",
   "execution_count": 7,
   "metadata": {},
   "outputs": [
    {
     "data": {
      "text/html": [
       "<pre style=\"white-space:pre;overflow-x:auto;line-height:normal;font-family:Menlo,'DejaVu Sans Mono',consolas,'Courier New',monospace\"></pre>\n"
      ],
      "text/plain": []
     },
     "metadata": {},
     "output_type": "display_data"
    },
    {
     "data": {
      "text/plain": [
       "\n",
       "\u001b[1;35mIndex\u001b[0m\u001b[1m(\u001b[0m\u001b[1m[\u001b[0m\u001b[32m'duration'\u001b[0m, \u001b[32m'credit_amount'\u001b[0m, \u001b[32m'installment_commitment'\u001b[0m,\n",
       "       \u001b[32m'residence_since'\u001b[0m, \u001b[32m'age'\u001b[0m, \u001b[32m'existing_credits'\u001b[0m, \u001b[32m'num_dependents'\u001b[0m, \u001b[32m'X_1'\u001b[0m,\n",
       "       \u001b[32m'X_2'\u001b[0m, \u001b[32m'X_3'\u001b[0m, \u001b[32m'X_4'\u001b[0m, \u001b[32m'X_5'\u001b[0m, \u001b[32m'X_6'\u001b[0m, \u001b[32m'X_7'\u001b[0m, \u001b[32m'X_8'\u001b[0m, \u001b[32m'X_9'\u001b[0m, \u001b[32m'X_10'\u001b[0m, \u001b[32m'X_11'\u001b[0m,\n",
       "       \u001b[32m'X_12'\u001b[0m, \u001b[32m'X_13'\u001b[0m, \u001b[32m'y'\u001b[0m, \u001b[32m'checking_status_0\u001b[0m\u001b[32m<\u001b[0m\u001b[32m=X<200'\u001b[0m\u001b[39m, \u001b[0m\u001b[32m'checking_status_<0'\u001b[0m\u001b[39m,\u001b[0m\n",
       "\u001b[39m       \u001b[0m\u001b[32m'checking_status_>=200'\u001b[0m\u001b[39m, \u001b[0m\u001b[32m'checking_status_no checking'\u001b[0m\u001b[39m,\u001b[0m\n",
       "\u001b[39m       \u001b[0m\u001b[32m'credit_history_all paid'\u001b[0m\u001b[39m,\u001b[0m\n",
       "\u001b[39m       \u001b[0m\u001b[32m'credit_history_critical/other existing credit'\u001b[0m\u001b[39m,\u001b[0m\n",
       "\u001b[39m       \u001b[0m\u001b[32m'credit_history_delayed previously'\u001b[0m\u001b[39m, \u001b[0m\u001b[32m'credit_history_existing paid'\u001b[0m\u001b[39m,\u001b[0m\n",
       "\u001b[39m       \u001b[0m\u001b[32m'credit_history_no credits/all paid'\u001b[0m\u001b[39m, \u001b[0m\u001b[32m'purpose_business'\u001b[0m\u001b[39m,\u001b[0m\n",
       "\u001b[39m       \u001b[0m\u001b[32m'purpose_domestic appliance'\u001b[0m\u001b[39m, \u001b[0m\u001b[32m'purpose_education'\u001b[0m\u001b[39m,\u001b[0m\n",
       "\u001b[39m       \u001b[0m\u001b[32m'purpose_furniture/equipment'\u001b[0m\u001b[39m, \u001b[0m\u001b[32m'purpose_new car'\u001b[0m\u001b[39m, \u001b[0m\u001b[32m'purpose_other'\u001b[0m\u001b[39m,\u001b[0m\n",
       "\u001b[39m       \u001b[0m\u001b[32m'purpose_radio/tv'\u001b[0m\u001b[39m, \u001b[0m\u001b[32m'purpose_repairs'\u001b[0m\u001b[39m, \u001b[0m\u001b[32m'purpose_retraining'\u001b[0m\u001b[39m,\u001b[0m\n",
       "\u001b[39m       \u001b[0m\u001b[32m'purpose_used car'\u001b[0m\u001b[39m, \u001b[0m\u001b[32m'savings_status_100<=X<500'\u001b[0m\u001b[39m,\u001b[0m\n",
       "\u001b[39m       \u001b[0m\u001b[32m'savings_status_500<=X<1000'\u001b[0m\u001b[39m, \u001b[0m\u001b[32m'savings_status_<100'\u001b[0m\u001b[39m,\u001b[0m\n",
       "\u001b[39m       \u001b[0m\u001b[32m'savings_status_>=1000'\u001b[0m\u001b[39m, \u001b[0m\u001b[32m'savings_status_no known savings'\u001b[0m\u001b[39m,\u001b[0m\n",
       "\u001b[39m       \u001b[0m\u001b[32m'employment_1<=X<4'\u001b[0m\u001b[39m, \u001b[0m\u001b[32m'employment_4<=X<7'\u001b[0m\u001b[39m, \u001b[0m\u001b[32m'employment_<1'\u001b[0m\u001b[39m,\u001b[0m\n",
       "\u001b[39m       \u001b[0m\u001b[32m'employment_\u001b[0m\u001b[32m>\u001b[0m\u001b[32m=7'\u001b[0m, \u001b[32m'employment_unemployed'\u001b[0m,\n",
       "       \u001b[32m'personal_status_female div/dep/mar'\u001b[0m, \u001b[32m'personal_status_male div/sep'\u001b[0m,\n",
       "       \u001b[32m'personal_status_male mar/wid'\u001b[0m, \u001b[32m'personal_status_male single'\u001b[0m,\n",
       "       \u001b[32m'other_parties_co applicant'\u001b[0m, \u001b[32m'other_parties_guarantor'\u001b[0m,\n",
       "       \u001b[32m'other_parties_none'\u001b[0m, \u001b[32m'property_magnitude_car'\u001b[0m,\n",
       "       \u001b[32m'property_magnitude_life insurance'\u001b[0m,\n",
       "       \u001b[32m'property_magnitude_no known property'\u001b[0m,\n",
       "       \u001b[32m'property_magnitude_real estate'\u001b[0m, \u001b[32m'other_payment_plans_bank'\u001b[0m,\n",
       "       \u001b[32m'other_payment_plans_none'\u001b[0m, \u001b[32m'other_payment_plans_stores'\u001b[0m,\n",
       "       \u001b[32m'housing_for free'\u001b[0m, \u001b[32m'housing_own'\u001b[0m, \u001b[32m'housing_rent'\u001b[0m,\n",
       "       \u001b[32m'job_high qualif/self emp/mgmt'\u001b[0m, \u001b[32m'job_skilled'\u001b[0m,\n",
       "       \u001b[32m'job_unemp/unskilled non res'\u001b[0m, \u001b[32m'job_unskilled resident'\u001b[0m,\n",
       "       \u001b[32m'own_telephone_none'\u001b[0m, \u001b[32m'own_telephone_yes'\u001b[0m, \u001b[32m'foreign_worker_no'\u001b[0m,\n",
       "       \u001b[32m'foreign_worker_yes'\u001b[0m, \u001b[32m'health_status_bad'\u001b[0m, \u001b[32m'health_status_good'\u001b[0m\u001b[1m]\u001b[0m,\n",
       "      \u001b[33mdtype\u001b[0m=\u001b[32m'object'\u001b[0m\u001b[1m)\u001b[0m"
      ]
     },
     "execution_count": 7,
     "metadata": {},
     "output_type": "execute_result"
    }
   ],
   "source": [
    "dataset.drop(columns=[\"Unnamed: 0\"],inplace=True)\n",
    "dataset.columns"
   ]
  },
  {
   "cell_type": "code",
   "execution_count": 8,
   "metadata": {},
   "outputs": [],
   "source": [
    "X = dataset.copy()\n",
    "X.drop(columns=\"y\",axis=1,inplace=True)"
   ]
  },
  {
   "cell_type": "code",
   "execution_count": 9,
   "metadata": {},
   "outputs": [],
   "source": [
    "Y = dataset['y']"
   ]
  },
  {
   "cell_type": "code",
   "execution_count": 10,
   "metadata": {},
   "outputs": [],
   "source": [
    "X_train,X_test, Y_train,Y_test = train_test_split(X,Y)"
   ]
  },
  {
   "cell_type": "code",
   "execution_count": 19,
   "metadata": {},
   "outputs": [],
   "source": [
    "from sklearn.ensemble import RandomForestClassifier\n",
    "model = RandomForestClassifier()\n",
    "\n",
    "from sklearn.ensemble import GradientBoostingClassifier\n",
    "model1 = GradientBoostingClassifier()"
   ]
  },
  {
   "cell_type": "code",
   "execution_count": 20,
   "metadata": {},
   "outputs": [
    {
     "data": {
      "text/html": [
       "<style>#sk-container-id-2 {color: black;}#sk-container-id-2 pre{padding: 0;}#sk-container-id-2 div.sk-toggleable {background-color: white;}#sk-container-id-2 label.sk-toggleable__label {cursor: pointer;display: block;width: 100%;margin-bottom: 0;padding: 0.3em;box-sizing: border-box;text-align: center;}#sk-container-id-2 label.sk-toggleable__label-arrow:before {content: \"▸\";float: left;margin-right: 0.25em;color: #696969;}#sk-container-id-2 label.sk-toggleable__label-arrow:hover:before {color: black;}#sk-container-id-2 div.sk-estimator:hover label.sk-toggleable__label-arrow:before {color: black;}#sk-container-id-2 div.sk-toggleable__content {max-height: 0;max-width: 0;overflow: hidden;text-align: left;background-color: #f0f8ff;}#sk-container-id-2 div.sk-toggleable__content pre {margin: 0.2em;color: black;border-radius: 0.25em;background-color: #f0f8ff;}#sk-container-id-2 input.sk-toggleable__control:checked~div.sk-toggleable__content {max-height: 200px;max-width: 100%;overflow: auto;}#sk-container-id-2 input.sk-toggleable__control:checked~label.sk-toggleable__label-arrow:before {content: \"▾\";}#sk-container-id-2 div.sk-estimator input.sk-toggleable__control:checked~label.sk-toggleable__label {background-color: #d4ebff;}#sk-container-id-2 div.sk-label input.sk-toggleable__control:checked~label.sk-toggleable__label {background-color: #d4ebff;}#sk-container-id-2 input.sk-hidden--visually {border: 0;clip: rect(1px 1px 1px 1px);clip: rect(1px, 1px, 1px, 1px);height: 1px;margin: -1px;overflow: hidden;padding: 0;position: absolute;width: 1px;}#sk-container-id-2 div.sk-estimator {font-family: monospace;background-color: #f0f8ff;border: 1px dotted black;border-radius: 0.25em;box-sizing: border-box;margin-bottom: 0.5em;}#sk-container-id-2 div.sk-estimator:hover {background-color: #d4ebff;}#sk-container-id-2 div.sk-parallel-item::after {content: \"\";width: 100%;border-bottom: 1px solid gray;flex-grow: 1;}#sk-container-id-2 div.sk-label:hover label.sk-toggleable__label {background-color: #d4ebff;}#sk-container-id-2 div.sk-serial::before {content: \"\";position: absolute;border-left: 1px solid gray;box-sizing: border-box;top: 0;bottom: 0;left: 50%;z-index: 0;}#sk-container-id-2 div.sk-serial {display: flex;flex-direction: column;align-items: center;background-color: white;padding-right: 0.2em;padding-left: 0.2em;position: relative;}#sk-container-id-2 div.sk-item {position: relative;z-index: 1;}#sk-container-id-2 div.sk-parallel {display: flex;align-items: stretch;justify-content: center;background-color: white;position: relative;}#sk-container-id-2 div.sk-item::before, #sk-container-id-2 div.sk-parallel-item::before {content: \"\";position: absolute;border-left: 1px solid gray;box-sizing: border-box;top: 0;bottom: 0;left: 50%;z-index: -1;}#sk-container-id-2 div.sk-parallel-item {display: flex;flex-direction: column;z-index: 1;position: relative;background-color: white;}#sk-container-id-2 div.sk-parallel-item:first-child::after {align-self: flex-end;width: 50%;}#sk-container-id-2 div.sk-parallel-item:last-child::after {align-self: flex-start;width: 50%;}#sk-container-id-2 div.sk-parallel-item:only-child::after {width: 0;}#sk-container-id-2 div.sk-dashed-wrapped {border: 1px dashed gray;margin: 0 0.4em 0.5em 0.4em;box-sizing: border-box;padding-bottom: 0.4em;background-color: white;}#sk-container-id-2 div.sk-label label {font-family: monospace;font-weight: bold;display: inline-block;line-height: 1.2em;}#sk-container-id-2 div.sk-label-container {text-align: center;}#sk-container-id-2 div.sk-container {/* jupyter's `normalize.less` sets `[hidden] { display: none; }` but bootstrap.min.css set `[hidden] { display: none !important; }` so we also need the `!important` here to be able to override the default hidden behavior on the sphinx rendered scikit-learn.org. See: https://github.com/scikit-learn/scikit-learn/issues/21755 */display: inline-block !important;position: relative;}#sk-container-id-2 div.sk-text-repr-fallback {display: none;}</style><div id=\"sk-container-id-2\" class=\"sk-top-container\"><div class=\"sk-text-repr-fallback\"><pre>GradientBoostingClassifier()</pre><b>In a Jupyter environment, please rerun this cell to show the HTML representation or trust the notebook. <br />On GitHub, the HTML representation is unable to render, please try loading this page with nbviewer.org.</b></div><div class=\"sk-container\" hidden><div class=\"sk-item\"><div class=\"sk-estimator sk-toggleable\"><input class=\"sk-toggleable__control sk-hidden--visually\" id=\"sk-estimator-id-2\" type=\"checkbox\" checked><label for=\"sk-estimator-id-2\" class=\"sk-toggleable__label sk-toggleable__label-arrow\">GradientBoostingClassifier</label><div class=\"sk-toggleable__content\"><pre>GradientBoostingClassifier()</pre></div></div></div></div></div>"
      ],
      "text/plain": [
       "GradientBoostingClassifier()"
      ]
     },
     "execution_count": 20,
     "metadata": {},
     "output_type": "execute_result"
    }
   ],
   "source": [
    "model.fit(X_train,Y_train)\n",
    "model1.fit(X_train,Y_train)"
   ]
  },
  {
   "cell_type": "code",
   "execution_count": 22,
   "metadata": {},
   "outputs": [],
   "source": [
    "Y_predict = model.predict(X_test)\n",
    "Y_predict1 = model1.predict(X_test)"
   ]
  },
  {
   "cell_type": "code",
   "execution_count": 25,
   "metadata": {},
   "outputs": [
    {
     "name": "stdout",
     "output_type": "stream",
     "text": [
      "0.96\n"
     ]
    }
   ],
   "source": [
    "print(accuracy_score(Y_test,Y_predict))\n",
    "# print(accuracy_score(Y_test,Y_predict1))"
   ]
  },
  {
   "cell_type": "code",
   "execution_count": null,
   "metadata": {},
   "outputs": [],
   "source": []
  }
 ],
 "metadata": {
  "kernelspec": {
   "display_name": "recsys",
   "language": "python",
   "name": "python3"
  },
  "language_info": {
   "codemirror_mode": {
    "name": "ipython",
    "version": 3
   },
   "file_extension": ".py",
   "mimetype": "text/x-python",
   "name": "python",
   "nbconvert_exporter": "python",
   "pygments_lexer": "ipython3",
   "version": "3.12.2"
  }
 },
 "nbformat": 4,
 "nbformat_minor": 2
}
